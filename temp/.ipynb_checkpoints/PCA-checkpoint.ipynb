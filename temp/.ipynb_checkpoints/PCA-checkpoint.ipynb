{
 "cells": [
  {
   "cell_type": "code",
   "execution_count": 59,
   "metadata": {},
   "outputs": [],
   "source": [
    "import pandas as pd\n",
    "import numpy as np"
   ]
  },
  {
   "cell_type": "code",
   "execution_count": 60,
   "metadata": {},
   "outputs": [
    {
     "data": {
      "text/html": [
       "<div>\n",
       "<style scoped>\n",
       "    .dataframe tbody tr th:only-of-type {\n",
       "        vertical-align: middle;\n",
       "    }\n",
       "\n",
       "    .dataframe tbody tr th {\n",
       "        vertical-align: top;\n",
       "    }\n",
       "\n",
       "    .dataframe thead th {\n",
       "        text-align: right;\n",
       "    }\n",
       "</style>\n",
       "<table border=\"1\" class=\"dataframe\">\n",
       "  <thead>\n",
       "    <tr style=\"text-align: right;\">\n",
       "      <th></th>\n",
       "      <th>STATION CODE</th>\n",
       "      <th>LOCATIONS</th>\n",
       "      <th>STATE</th>\n",
       "      <th>TEMPERATURE ºC : Min</th>\n",
       "      <th>TEMPERATURE ºC : Max</th>\n",
       "      <th>TEMPERATURE ºC : Mean</th>\n",
       "      <th>pH : Min : 6.5-8.5</th>\n",
       "      <th>pH : Max : 6.5-8.5</th>\n",
       "      <th>pH : Mean : 6.5-8.5</th>\n",
       "      <th>CONDUCTIVITY (µmhos/cm) : Min</th>\n",
       "      <th>...</th>\n",
       "      <th>B.O.D. (mg/l) : Mean : &lt; 3 mg/l</th>\n",
       "      <th>NITRATE- N+ NITRITE-N (mg/l) : Min</th>\n",
       "      <th>NITRATE- N+ NITRITE-N (mg/l) : Max</th>\n",
       "      <th>NITRATE- N+ NITRITE-N (mg/l) : Mean</th>\n",
       "      <th>FECAL COLIFORM (MPN/100ml) : Min : &lt; 2500 MPN/100ml</th>\n",
       "      <th>FECAL COLIFORM (MPN/100ml) : Max : &lt; 2500 MPN/100ml</th>\n",
       "      <th>FECAL COLIFORM (MPN/100ml) : Mean : &lt; 2500 MPN/100ml</th>\n",
       "      <th>TOTAL COLIFORM (MPN/100ml) : Min : &lt; 5000 MPN/100ml</th>\n",
       "      <th>TOTAL COLIFORM (MPN/100ml) : Max : &lt; 5000 MPN/100ml</th>\n",
       "      <th>TOTAL COLIFORM (MPN/100ml) : Mean : &lt; 5000 MPN/100ml</th>\n",
       "    </tr>\n",
       "  </thead>\n",
       "  <tbody>\n",
       "    <tr>\n",
       "      <th>0</th>\n",
       "      <td>19</td>\n",
       "      <td>WELL AT ELOOR, KERALA</td>\n",
       "      <td>Kerala</td>\n",
       "      <td>27.4</td>\n",
       "      <td>27.5</td>\n",
       "      <td>27.5</td>\n",
       "      <td>5.2</td>\n",
       "      <td>7.2</td>\n",
       "      <td>6.2</td>\n",
       "      <td>137</td>\n",
       "      <td>...</td>\n",
       "      <td>1.0</td>\n",
       "      <td>1.96</td>\n",
       "      <td>3.31</td>\n",
       "      <td>2.6</td>\n",
       "      <td>79</td>\n",
       "      <td>220</td>\n",
       "      <td>150</td>\n",
       "      <td>110</td>\n",
       "      <td>630</td>\n",
       "      <td>370</td>\n",
       "    </tr>\n",
       "  </tbody>\n",
       "</table>\n",
       "<p>1 rows × 24 columns</p>\n",
       "</div>"
      ],
      "text/plain": [
       "   STATION CODE              LOCATIONS   STATE  TEMPERATURE ºC : Min  \\\n",
       "0            19  WELL AT ELOOR, KERALA  Kerala                  27.4   \n",
       "\n",
       "   TEMPERATURE ºC : Max  TEMPERATURE ºC : Mean  pH : Min : 6.5-8.5  \\\n",
       "0                  27.5                   27.5                 5.2   \n",
       "\n",
       "   pH : Max : 6.5-8.5  pH : Mean : 6.5-8.5  CONDUCTIVITY (µmhos/cm) : Min  \\\n",
       "0                 7.2                  6.2                            137   \n",
       "\n",
       "   ...  B.O.D. (mg/l) : Mean : < 3 mg/l  NITRATE- N+ NITRITE-N (mg/l) : Min  \\\n",
       "0  ...                              1.0                                1.96   \n",
       "\n",
       "   NITRATE- N+ NITRITE-N (mg/l) : Max  NITRATE- N+ NITRITE-N (mg/l) : Mean  \\\n",
       "0                                3.31                                  2.6   \n",
       "\n",
       "   FECAL COLIFORM (MPN/100ml) : Min : < 2500 MPN/100ml  \\\n",
       "0                                                 79     \n",
       "\n",
       "   FECAL COLIFORM (MPN/100ml) : Max : < 2500 MPN/100ml  \\\n",
       "0                                                220     \n",
       "\n",
       "   FECAL COLIFORM (MPN/100ml) : Mean : < 2500 MPN/100ml  \\\n",
       "0                                                150      \n",
       "\n",
       "   TOTAL COLIFORM (MPN/100ml) : Min : < 5000 MPN/100ml  \\\n",
       "0                                                110     \n",
       "\n",
       "   TOTAL COLIFORM (MPN/100ml) : Max : < 5000 MPN/100ml  \\\n",
       "0                                                630     \n",
       "\n",
       "   TOTAL COLIFORM (MPN/100ml) : Mean : < 5000 MPN/100ml  \n",
       "0                                                370     \n",
       "\n",
       "[1 rows x 24 columns]"
      ]
     },
     "execution_count": 60,
     "metadata": {},
     "output_type": "execute_result"
    }
   ],
   "source": [
    "df = pd.read_csv(\"ground_water_quality_in_kerala-2014.csv\", encoding=\"unicode_escape\")\n",
    "df.head(1)\n"
   ]
  },
  {
   "cell_type": "markdown",
   "metadata": {},
   "source": [
    "Removing features we do not need"
   ]
  },
  {
   "cell_type": "code",
   "execution_count": 61,
   "metadata": {},
   "outputs": [
    {
     "data": {
      "text/html": [
       "<div>\n",
       "<style scoped>\n",
       "    .dataframe tbody tr th:only-of-type {\n",
       "        vertical-align: middle;\n",
       "    }\n",
       "\n",
       "    .dataframe tbody tr th {\n",
       "        vertical-align: top;\n",
       "    }\n",
       "\n",
       "    .dataframe thead th {\n",
       "        text-align: right;\n",
       "    }\n",
       "</style>\n",
       "<table border=\"1\" class=\"dataframe\">\n",
       "  <thead>\n",
       "    <tr style=\"text-align: right;\">\n",
       "      <th></th>\n",
       "      <th>TEMPERATURE ºC : Min</th>\n",
       "      <th>TEMPERATURE ºC : Max</th>\n",
       "      <th>TEMPERATURE ºC : Mean</th>\n",
       "      <th>pH : Min : 6.5-8.5</th>\n",
       "      <th>pH : Max : 6.5-8.5</th>\n",
       "      <th>pH : Mean : 6.5-8.5</th>\n",
       "      <th>CONDUCTIVITY (µmhos/cm) : Min</th>\n",
       "      <th>CONDUCTIVITY (µmhos/cm) : Max</th>\n",
       "      <th>CONDUCTIVITY (µmhos/cm) : Mean</th>\n",
       "      <th>B.O.D. (mg/l) : Min : &lt; 3 mg/l</th>\n",
       "      <th>...</th>\n",
       "      <th>B.O.D. (mg/l) : Mean : &lt; 3 mg/l</th>\n",
       "      <th>NITRATE- N+ NITRITE-N (mg/l) : Min</th>\n",
       "      <th>NITRATE- N+ NITRITE-N (mg/l) : Max</th>\n",
       "      <th>NITRATE- N+ NITRITE-N (mg/l) : Mean</th>\n",
       "      <th>FECAL COLIFORM (MPN/100ml) : Min : &lt; 2500 MPN/100ml</th>\n",
       "      <th>FECAL COLIFORM (MPN/100ml) : Max : &lt; 2500 MPN/100ml</th>\n",
       "      <th>FECAL COLIFORM (MPN/100ml) : Mean : &lt; 2500 MPN/100ml</th>\n",
       "      <th>TOTAL COLIFORM (MPN/100ml) : Min : &lt; 5000 MPN/100ml</th>\n",
       "      <th>TOTAL COLIFORM (MPN/100ml) : Max : &lt; 5000 MPN/100ml</th>\n",
       "      <th>TOTAL COLIFORM (MPN/100ml) : Mean : &lt; 5000 MPN/100ml</th>\n",
       "    </tr>\n",
       "  </thead>\n",
       "  <tbody>\n",
       "    <tr>\n",
       "      <th>0</th>\n",
       "      <td>27.4</td>\n",
       "      <td>27.5</td>\n",
       "      <td>27.5</td>\n",
       "      <td>5.2</td>\n",
       "      <td>7.2</td>\n",
       "      <td>6.2</td>\n",
       "      <td>137</td>\n",
       "      <td>180</td>\n",
       "      <td>159</td>\n",
       "      <td>0.8</td>\n",
       "      <td>...</td>\n",
       "      <td>1.0</td>\n",
       "      <td>1.96</td>\n",
       "      <td>3.31</td>\n",
       "      <td>2.6</td>\n",
       "      <td>79</td>\n",
       "      <td>220</td>\n",
       "      <td>150</td>\n",
       "      <td>110</td>\n",
       "      <td>630</td>\n",
       "      <td>370</td>\n",
       "    </tr>\n",
       "  </tbody>\n",
       "</table>\n",
       "<p>1 rows × 21 columns</p>\n",
       "</div>"
      ],
      "text/plain": [
       "   TEMPERATURE ºC : Min  TEMPERATURE ºC : Max  TEMPERATURE ºC : Mean  \\\n",
       "0                  27.4                  27.5                   27.5   \n",
       "\n",
       "   pH : Min : 6.5-8.5  pH : Max : 6.5-8.5  pH : Mean : 6.5-8.5  \\\n",
       "0                 5.2                 7.2                  6.2   \n",
       "\n",
       "   CONDUCTIVITY (µmhos/cm) : Min  CONDUCTIVITY (µmhos/cm) : Max  \\\n",
       "0                            137                            180   \n",
       "\n",
       "   CONDUCTIVITY (µmhos/cm) : Mean  B.O.D. (mg/l) : Min : < 3 mg/l  ...  \\\n",
       "0                             159                             0.8  ...   \n",
       "\n",
       "   B.O.D. (mg/l) : Mean : < 3 mg/l  NITRATE- N+ NITRITE-N (mg/l) : Min  \\\n",
       "0                              1.0                                1.96   \n",
       "\n",
       "   NITRATE- N+ NITRITE-N (mg/l) : Max  NITRATE- N+ NITRITE-N (mg/l) : Mean  \\\n",
       "0                                3.31                                  2.6   \n",
       "\n",
       "   FECAL COLIFORM (MPN/100ml) : Min : < 2500 MPN/100ml  \\\n",
       "0                                                 79     \n",
       "\n",
       "   FECAL COLIFORM (MPN/100ml) : Max : < 2500 MPN/100ml  \\\n",
       "0                                                220     \n",
       "\n",
       "   FECAL COLIFORM (MPN/100ml) : Mean : < 2500 MPN/100ml  \\\n",
       "0                                                150      \n",
       "\n",
       "   TOTAL COLIFORM (MPN/100ml) : Min : < 5000 MPN/100ml  \\\n",
       "0                                                110     \n",
       "\n",
       "   TOTAL COLIFORM (MPN/100ml) : Max : < 5000 MPN/100ml  \\\n",
       "0                                                630     \n",
       "\n",
       "   TOTAL COLIFORM (MPN/100ml) : Mean : < 5000 MPN/100ml  \n",
       "0                                                370     \n",
       "\n",
       "[1 rows x 21 columns]"
      ]
     },
     "execution_count": 61,
     "metadata": {},
     "output_type": "execute_result"
    }
   ],
   "source": [
    "df_1 = df.drop(['STATION CODE','LOCATIONS','STATE'], axis=1, inplace = True)\n",
    "df.head(1)\n"
   ]
  },
  {
   "cell_type": "markdown",
   "metadata": {},
   "source": [
    "ix is deprecated. using iloc instead"
   ]
  },
  {
   "cell_type": "code",
   "execution_count": 62,
   "metadata": {},
   "outputs": [],
   "source": [
    " def normalize_data(data):\n",
    "    mu = np.mean(data, 0)\n",
    "    sigma = np.std(data, 0)\n",
    "    data_norm = (data-mu)/sigma\n",
    "    return data_norm, mu, sigma"
   ]
  },
  {
   "cell_type": "code",
   "execution_count": 63,
   "metadata": {},
   "outputs": [],
   "source": [
    "data = df.to_numpy()"
   ]
  },
  {
   "cell_type": "code",
   "execution_count": 64,
   "metadata": {},
   "outputs": [],
   "source": [
    "data_norm, mu, sigma = normalize_data(df)"
   ]
  },
  {
   "cell_type": "code",
   "execution_count": 18,
   "metadata": {},
   "outputs": [
    {
     "name": "stdout",
     "output_type": "stream",
     "text": [
      "(34, 21)\n",
      "(21, 21)\n"
     ]
    }
   ],
   "source": [
    "cov = np.cov(data_norm.T)\n",
    "print(data.shape)\n",
    "print(cov.shape)"
   ]
  },
  {
   "cell_type": "code",
   "execution_count": 31,
   "metadata": {},
   "outputs": [
    {
     "name": "stdout",
     "output_type": "stream",
     "text": [
      "[5.90730132e+00 4.63706782e+00 3.17738535e+00 2.32494089e+00\n",
      " 2.00369718e+00 1.45003500e+00 7.31052698e-01 5.27505853e-01\n",
      " 3.38075811e-01 2.44793729e-01 1.08218714e-01 1.03021043e-01\n",
      " 5.22455283e-02 3.03827344e-02 4.32120440e-04 1.35142658e-04\n",
      " 7.00811231e-05 2.17317958e-06 2.74318311e-07 1.37870124e-07\n",
      " 3.94526832e-08]\n"
     ]
    }
   ],
   "source": [
    "eig_vals,eig_vecs = np.linalg.eig(cov)\n",
    "print(eig_vals)"
   ]
  },
  {
   "cell_type": "markdown",
   "metadata": {},
   "source": [
    "# Scree Plot"
   ]
  },
  {
   "cell_type": "code",
   "execution_count": 28,
   "metadata": {},
   "outputs": [
    {
     "data": {
      "text/plain": [
       "Text(0.5, 1.0, 'Scree Plot')"
      ]
     },
     "execution_count": 28,
     "metadata": {},
     "output_type": "execute_result"
    },
    {
     "data": {
      "image/png": "[encoded data removed]",
      "text/plain": [
       "<Figure size 432x288 with 1 Axes>"
      ]
     },
     "metadata": {
      "needs_background": "light"
     },
     "output_type": "display_data"
    }
   ],
   "source": [
    "index = np.arange(1,eig_vals.shape[0]+1)\n",
    "import seaborn as sns\n",
    "sns.pointplot(x=index, y=eig_vals).set_title(\"Scree Plot\")"
   ]
  },
  {
   "cell_type": "markdown",
   "metadata": {},
   "source": [
    "We see that the elbow occurs after the 6th eigenvalue. The explained variance is:"
   ]
  },
  {
   "cell_type": "code",
   "execution_count": 21,
   "metadata": {},
   "outputs": [
    {
     "name": "stdout",
     "output_type": "stream",
     "text": [
      "0.9012802651734779\n"
     ]
    }
   ],
   "source": [
    "print(np.sum(eig_vals[0:6]/np.sum(eig_vals)))"
   ]
  },
  {
   "cell_type": "code",
   "execution_count": 65,
   "metadata": {},
   "outputs": [],
   "source": [
    "eig_vecs = eig_vecs[:,0:2]\n"
   ]
  },
  {
   "cell_type": "code",
   "execution_count": 66,
   "metadata": {},
   "outputs": [
    {
     "name": "stdout",
     "output_type": "stream",
     "text": [
      "(34, 21)\n",
      "(21, 2)\n"
     ]
    }
   ],
   "source": [
    "print(data_norm.shape)\n",
    "print(eig_vecs.shape)"
   ]
  },
  {
   "cell_type": "code",
   "execution_count": 67,
   "metadata": {},
   "outputs": [
    {
     "name": "stdout",
     "output_type": "stream",
     "text": [
      "(2, 21)\n",
      "(21, 34)\n"
     ]
    },
    {
     "data": {
      "text/plain": [
       "(2, 34)"
      ]
     },
     "execution_count": 67,
     "metadata": {},
     "output_type": "execute_result"
    }
   ],
   "source": [
    "print(eig_vecs.T.shape)\n",
    "print(data_norm.T.shape)\n",
    "data_pca = np.dot(eig_vecs.T,data_norm.T)\n",
    "data_pca.shape"
   ]
  },
  {
   "cell_type": "code",
   "execution_count": null,
   "metadata": {},
   "outputs": [],
   "source": []
  },
  {
   "cell_type": "code",
   "execution_count": 68,
   "metadata": {},
   "outputs": [],
   "source": [
    "import numpy as np\n",
    "from sklearn.decomposition import PCA\n",
    "from sklearn.datasets import make_classification\n",
    "\n",
    "pca = PCA(n_components=2)\n",
    "pca.fit(data_norm)\n",
    "\n",
    "data_skl = pca.transform(data_norm)"
   ]
  },
  {
   "cell_type": "code",
   "execution_count": 69,
   "metadata": {},
   "outputs": [
    {
     "name": "stdout",
     "output_type": "stream",
     "text": [
      "[[ 2.51676172e-03 -8.86812251e-01]\n",
      " [-1.14413128e+00 -1.97269661e+00]\n",
      " [-1.12378461e+00 -2.70983901e+00]\n",
      " [-1.31398995e+00 -3.53769016e-01]\n",
      " [-1.30321312e+00 -5.98026186e-01]\n",
      " [-2.28358488e+00 -5.01511701e+00]\n",
      " [-1.07441385e+00  1.12558410e+00]\n",
      " [-2.52157379e-01  2.95860970e+00]\n",
      " [-7.61868835e-01 -3.24314828e-01]\n",
      " [ 1.02971323e+00  9.77665424e-01]\n",
      " [ 2.63503098e-01  2.19892524e+00]\n",
      " [-2.08948966e+00  1.28147629e+00]\n",
      " [-4.69826933e-01 -1.58203346e+00]\n",
      " [-8.61791548e-01 -1.40357883e+00]\n",
      " [-1.71498997e+00 -2.67147141e-01]\n",
      " [ 7.41943079e+00  1.02854198e+00]\n",
      " [ 5.65988024e+00 -1.22350316e+00]\n",
      " [ 5.14581843e+00 -7.16014931e-01]\n",
      " [ 2.16212726e+00 -9.11805841e-01]\n",
      " [ 1.30323665e-01  1.69691213e+00]\n",
      " [-1.56570149e-01 -2.02637879e+00]\n",
      " [-2.31600426e+00  1.36913120e+00]\n",
      " [-1.11261308e+00 -2.81436286e+00]\n",
      " [-9.18480180e-01 -1.40115768e-01]\n",
      " [-1.53672030e+00  6.59033384e-01]\n",
      " [ 1.39131240e+00  1.84786827e+00]\n",
      " [ 8.37251771e-01 -1.17769111e+00]\n",
      " [ 4.79592633e+00 -1.88554194e-01]\n",
      " [-2.34648392e+00 -1.05738204e-01]\n",
      " [-3.87723515e-02  5.69928335e+00]\n",
      " [ 2.17320793e-01 -1.31296362e+00]\n",
      " [-2.51817521e+00  5.43789665e+00]\n",
      " [-1.86879969e+00  1.01992206e+00]\n",
      " [-1.84926363e+00 -1.57038695e+00]]\n"
     ]
    }
   ],
   "source": [
    "print(data_skl)\n"
   ]
  },
  {
   "cell_type": "code",
   "execution_count": null,
   "metadata": {},
   "outputs": [],
   "source": []
  },
  {
   "cell_type": "code",
   "execution_count": 70,
   "metadata": {},
   "outputs": [
    {
     "name": "stdout",
     "output_type": "stream",
     "text": [
      "[[-2.51676172e-03  1.14413128e+00  1.12378461e+00  1.31398995e+00\n",
      "   1.30321312e+00  2.28358488e+00  1.07441385e+00  2.52157379e-01\n",
      "   7.61868835e-01 -1.02971323e+00 -2.63503098e-01  2.08948966e+00\n",
      "   4.69826933e-01  8.61791548e-01  1.71498997e+00 -7.41943079e+00\n",
      "  -5.65988024e+00 -5.14581843e+00 -2.16212726e+00 -1.30323665e-01\n",
      "   1.56570149e-01  2.31600426e+00  1.11261308e+00  9.18480180e-01\n",
      "   1.53672030e+00 -1.39131240e+00 -8.37251771e-01 -4.79592633e+00\n",
      "   2.34648392e+00  3.87723515e-02 -2.17320793e-01  2.51817521e+00\n",
      "   1.86879969e+00  1.84926363e+00]\n",
      " [ 8.86812251e-01  1.97269661e+00  2.70983901e+00  3.53769016e-01\n",
      "   5.98026186e-01  5.01511701e+00 -1.12558410e+00 -2.95860970e+00\n",
      "   3.24314828e-01 -9.77665424e-01 -2.19892524e+00 -1.28147629e+00\n",
      "   1.58203346e+00  1.40357883e+00  2.67147141e-01 -1.02854198e+00\n",
      "   1.22350316e+00  7.16014931e-01  9.11805841e-01 -1.69691213e+00\n",
      "   2.02637879e+00 -1.36913120e+00  2.81436286e+00  1.40115768e-01\n",
      "  -6.59033384e-01 -1.84786827e+00  1.17769111e+00  1.88554194e-01\n",
      "   1.05738204e-01 -5.69928335e+00  1.31296362e+00 -5.43789665e+00\n",
      "  -1.01992206e+00  1.57038695e+00]]\n"
     ]
    }
   ],
   "source": [
    "\n",
    "\n",
    "print(data_pca)"
   ]
  },
  {
   "cell_type": "code",
   "execution_count": 38,
   "metadata": {},
   "outputs": [
    {
     "name": "stdout",
     "output_type": "stream",
     "text": [
      "(34, 2)\n"
     ]
    }
   ],
   "source": [
    "print(data_skl.shape)"
   ]
  },
  {
   "cell_type": "code",
   "execution_count": 41,
   "metadata": {},
   "outputs": [
    {
     "data": {
      "text/plain": [
       "[(-4, 10), (-4, 6)]"
      ]
     },
     "execution_count": 41,
     "metadata": {},
     "output_type": "execute_result"
    },
    {
     "data": {
      "image/png": "[encoded data removed]",
      "text/plain": [
       "<Figure size 432x288 with 1 Axes>"
      ]
     },
     "metadata": {
      "needs_background": "light"
     },
     "output_type": "display_data"
    }
   ],
   "source": [
    "import seaborn as sns\n",
    "sns.scatterplot(x = data_skl[:,0], y = data_skl[:, 1]).set(xlim=(-4,6),ylim=(-4,10))"
   ]
  },
  {
   "cell_type": "code",
   "execution_count": 56,
   "metadata": {},
   "outputs": [
    {
     "data": {
      "text/plain": [
       "[(-4, 10), (-4, 6)]"
      ]
     },
     "execution_count": 56,
     "metadata": {},
     "output_type": "execute_result"
    },
    {
     "data": {
      "image/png": "[encoded data removed]",
      "text/plain": [
       "<Figure size 432x288 with 1 Axes>"
      ]
     },
     "metadata": {
      "needs_background": "light"
     },
     "output_type": "display_data"
    }
   ],
   "source": [
    "sns.scatterplot(x = -data_pca[:,0], y = -data_pca[:, 1]).set(xlim=(-4,6),ylim=(-4,10))"
   ]
  },
  {
   "cell_type": "code",
   "execution_count": null,
   "metadata": {},
   "outputs": [],
   "source": []
  },
  {
   "cell_type": "code",
   "execution_count": null,
   "metadata": {},
   "outputs": [],
   "source": []
  }
 ],
 "metadata": {
  "kernelspec": {
   "display_name": "Python 3",
   "language": "python",
   "name": "python3"
  },
  "language_info": {
   "codemirror_mode": {
    "name": "ipython",
    "version": 3
   },
   "file_extension": ".py",
   "mimetype": "text/x-python",
   "name": "python",
   "nbconvert_exporter": "python",
   "pygments_lexer": "ipython3",
   "version": "3.7.3"
  }
 },
 "nbformat": 4,
 "nbformat_minor": 2
}

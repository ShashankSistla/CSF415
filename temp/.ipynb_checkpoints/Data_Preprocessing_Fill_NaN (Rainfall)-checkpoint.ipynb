{
 "cells": [
  {
   "cell_type": "markdown",
   "metadata": {},
   "source": [
    "# Data Preprocessing - Filling NaN values\n",
    "## Filling NaN values is a crucial step in data precprocessing as it gives Machine Learning models data to work with \n",
    "## In this notebook, we use the records with complete data to help fill in the NaN values using Linear Regression\n",
    "\n",
    "### We start by importing the necessary libraries and loading the dataset into the notebook"
   ]
  },
  {
   "cell_type": "code",
   "execution_count": 131,
   "metadata": {},
   "outputs": [
    {
     "data": {
      "text/html": [
       "<div>\n",
       "<style scoped>\n",
       "    .dataframe tbody tr th:only-of-type {\n",
       "        vertical-align: middle;\n",
       "    }\n",
       "\n",
       "    .dataframe tbody tr th {\n",
       "        vertical-align: top;\n",
       "    }\n",
       "\n",
       "    .dataframe thead th {\n",
       "        text-align: right;\n",
       "    }\n",
       "</style>\n",
       "<table border=\"1\" class=\"dataframe\">\n",
       "  <thead>\n",
       "    <tr style=\"text-align: right;\">\n",
       "      <th></th>\n",
       "      <th>SUBDIVISION</th>\n",
       "      <th>YEAR</th>\n",
       "      <th>Parameter</th>\n",
       "      <th>JAN</th>\n",
       "      <th>FEB</th>\n",
       "      <th>MAR</th>\n",
       "      <th>APR</th>\n",
       "      <th>MAY</th>\n",
       "      <th>JUN</th>\n",
       "      <th>JUL</th>\n",
       "      <th>AUG</th>\n",
       "      <th>SEP</th>\n",
       "      <th>OCT</th>\n",
       "      <th>NOV</th>\n",
       "      <th>DEC</th>\n",
       "      <th>ANNUAL</th>\n",
       "      <th>JF</th>\n",
       "      <th>MAM</th>\n",
       "      <th>JJAS</th>\n",
       "      <th>OND</th>\n",
       "    </tr>\n",
       "  </thead>\n",
       "  <tbody>\n",
       "    <tr>\n",
       "      <th>0</th>\n",
       "      <td>ANDAMAN &amp; NICOBAR ISLANDS</td>\n",
       "      <td>1901-2015</td>\n",
       "      <td>Mean</td>\n",
       "      <td>49.2</td>\n",
       "      <td>27.6</td>\n",
       "      <td>30.0</td>\n",
       "      <td>72.2</td>\n",
       "      <td>355.6</td>\n",
       "      <td>471.4</td>\n",
       "      <td>397.5</td>\n",
       "      <td>400.5</td>\n",
       "      <td>431.3</td>\n",
       "      <td>289.5</td>\n",
       "      <td>233.0</td>\n",
       "      <td>153.3</td>\n",
       "      <td>2911.0</td>\n",
       "      <td>76.8</td>\n",
       "      <td>457.8</td>\n",
       "      <td>1700.7</td>\n",
       "      <td>675.8</td>\n",
       "    </tr>\n",
       "    <tr>\n",
       "      <th>1</th>\n",
       "      <td>ANDAMAN &amp; NICOBAR ISLANDS</td>\n",
       "      <td>1901-2015</td>\n",
       "      <td>Standard deviation</td>\n",
       "      <td>71.3</td>\n",
       "      <td>38.8</td>\n",
       "      <td>43.6</td>\n",
       "      <td>66.8</td>\n",
       "      <td>151.2</td>\n",
       "      <td>147.0</td>\n",
       "      <td>151.9</td>\n",
       "      <td>142.6</td>\n",
       "      <td>146.7</td>\n",
       "      <td>99.4</td>\n",
       "      <td>119.4</td>\n",
       "      <td>129.5</td>\n",
       "      <td>395.9</td>\n",
       "      <td>81.1</td>\n",
       "      <td>176.8</td>\n",
       "      <td>286.3</td>\n",
       "      <td>199.0</td>\n",
       "    </tr>\n",
       "    <tr>\n",
       "      <th>2</th>\n",
       "      <td>ANDAMAN &amp; NICOBAR ISLANDS</td>\n",
       "      <td>1901-2015</td>\n",
       "      <td>Coefficient of variation</td>\n",
       "      <td>144.9</td>\n",
       "      <td>140.4</td>\n",
       "      <td>145.5</td>\n",
       "      <td>92.5</td>\n",
       "      <td>42.5</td>\n",
       "      <td>31.2</td>\n",
       "      <td>38.2</td>\n",
       "      <td>35.6</td>\n",
       "      <td>34.0</td>\n",
       "      <td>34.3</td>\n",
       "      <td>51.2</td>\n",
       "      <td>84.5</td>\n",
       "      <td>13.6</td>\n",
       "      <td>105.6</td>\n",
       "      <td>38.6</td>\n",
       "      <td>16.8</td>\n",
       "      <td>29.4</td>\n",
       "    </tr>\n",
       "    <tr>\n",
       "      <th>3</th>\n",
       "      <td>ANDAMAN &amp; NICOBAR ISLANDS</td>\n",
       "      <td>1901</td>\n",
       "      <td>Actual</td>\n",
       "      <td>49.2</td>\n",
       "      <td>87.1</td>\n",
       "      <td>29.2</td>\n",
       "      <td>2.3</td>\n",
       "      <td>528.8</td>\n",
       "      <td>517.5</td>\n",
       "      <td>365.1</td>\n",
       "      <td>481.1</td>\n",
       "      <td>332.6</td>\n",
       "      <td>388.5</td>\n",
       "      <td>558.2</td>\n",
       "      <td>33.6</td>\n",
       "      <td>3373.2</td>\n",
       "      <td>136.3</td>\n",
       "      <td>560.3</td>\n",
       "      <td>1696.3</td>\n",
       "      <td>980.3</td>\n",
       "    </tr>\n",
       "    <tr>\n",
       "      <th>4</th>\n",
       "      <td>ANDAMAN &amp; NICOBAR ISLANDS</td>\n",
       "      <td>1901</td>\n",
       "      <td>Percentage departure</td>\n",
       "      <td>-0.1</td>\n",
       "      <td>215.9</td>\n",
       "      <td>-2.6</td>\n",
       "      <td>-96.8</td>\n",
       "      <td>48.7</td>\n",
       "      <td>9.8</td>\n",
       "      <td>-8.2</td>\n",
       "      <td>20.1</td>\n",
       "      <td>-22.9</td>\n",
       "      <td>34.2</td>\n",
       "      <td>139.5</td>\n",
       "      <td>-78.1</td>\n",
       "      <td>15.9</td>\n",
       "      <td>77.5</td>\n",
       "      <td>22.4</td>\n",
       "      <td>-0.3</td>\n",
       "      <td>45.1</td>\n",
       "    </tr>\n",
       "  </tbody>\n",
       "</table>\n",
       "</div>"
      ],
      "text/plain": [
       "                 SUBDIVISION       YEAR                 Parameter    JAN  \\\n",
       "0  ANDAMAN & NICOBAR ISLANDS  1901-2015                      Mean   49.2   \n",
       "1  ANDAMAN & NICOBAR ISLANDS  1901-2015        Standard deviation   71.3   \n",
       "2  ANDAMAN & NICOBAR ISLANDS  1901-2015  Coefficient of variation  144.9   \n",
       "3  ANDAMAN & NICOBAR ISLANDS       1901                    Actual   49.2   \n",
       "4  ANDAMAN & NICOBAR ISLANDS       1901      Percentage departure   -0.1   \n",
       "\n",
       "     FEB    MAR   APR    MAY    JUN    JUL    AUG    SEP    OCT    NOV    DEC  \\\n",
       "0   27.6   30.0  72.2  355.6  471.4  397.5  400.5  431.3  289.5  233.0  153.3   \n",
       "1   38.8   43.6  66.8  151.2  147.0  151.9  142.6  146.7   99.4  119.4  129.5   \n",
       "2  140.4  145.5  92.5   42.5   31.2   38.2   35.6   34.0   34.3   51.2   84.5   \n",
       "3   87.1   29.2   2.3  528.8  517.5  365.1  481.1  332.6  388.5  558.2   33.6   \n",
       "4  215.9   -2.6 -96.8   48.7    9.8   -8.2   20.1  -22.9   34.2  139.5  -78.1   \n",
       "\n",
       "   ANNUAL     JF    MAM    JJAS    OND  \n",
       "0  2911.0   76.8  457.8  1700.7  675.8  \n",
       "1   395.9   81.1  176.8   286.3  199.0  \n",
       "2    13.6  105.6   38.6    16.8   29.4  \n",
       "3  3373.2  136.3  560.3  1696.3  980.3  \n",
       "4    15.9   77.5   22.4    -0.3   45.1  "
      ]
     },
     "execution_count": 131,
     "metadata": {},
     "output_type": "execute_result"
    }
   ],
   "source": [
    "df = pd.read_csv(\"F:\\\\School\\\\2-2\\\\Data Mining\\\\Project\\\\sub-division_rainfall_act_dep_1901-2015.csv\",\n",
    "                encoding = \"unicode_escape\")\n",
    "df.head()"
   ]
  },
  {
   "cell_type": "code",
   "execution_count": 132,
   "metadata": {},
   "outputs": [
    {
     "data": {
      "text/html": [
       "<div>\n",
       "<style scoped>\n",
       "    .dataframe tbody tr th:only-of-type {\n",
       "        vertical-align: middle;\n",
       "    }\n",
       "\n",
       "    .dataframe tbody tr th {\n",
       "        vertical-align: top;\n",
       "    }\n",
       "\n",
       "    .dataframe thead th {\n",
       "        text-align: right;\n",
       "    }\n",
       "</style>\n",
       "<table border=\"1\" class=\"dataframe\">\n",
       "  <thead>\n",
       "    <tr style=\"text-align: right;\">\n",
       "      <th></th>\n",
       "      <th>SUBDIVISION</th>\n",
       "      <th>YEAR</th>\n",
       "      <th>Parameter</th>\n",
       "      <th>JAN</th>\n",
       "      <th>FEB</th>\n",
       "      <th>MAR</th>\n",
       "      <th>APR</th>\n",
       "      <th>MAY</th>\n",
       "      <th>JUN</th>\n",
       "      <th>JUL</th>\n",
       "      <th>AUG</th>\n",
       "      <th>SEP</th>\n",
       "      <th>OCT</th>\n",
       "      <th>NOV</th>\n",
       "      <th>DEC</th>\n",
       "    </tr>\n",
       "  </thead>\n",
       "  <tbody>\n",
       "    <tr>\n",
       "      <th>0</th>\n",
       "      <td>ANDAMAN &amp; NICOBAR ISLANDS</td>\n",
       "      <td>1901-2015</td>\n",
       "      <td>Mean</td>\n",
       "      <td>49.2</td>\n",
       "      <td>27.6</td>\n",
       "      <td>30.0</td>\n",
       "      <td>72.2</td>\n",
       "      <td>355.6</td>\n",
       "      <td>471.4</td>\n",
       "      <td>397.5</td>\n",
       "      <td>400.5</td>\n",
       "      <td>431.3</td>\n",
       "      <td>289.5</td>\n",
       "      <td>233.0</td>\n",
       "      <td>153.3</td>\n",
       "    </tr>\n",
       "    <tr>\n",
       "      <th>1</th>\n",
       "      <td>ANDAMAN &amp; NICOBAR ISLANDS</td>\n",
       "      <td>1901-2015</td>\n",
       "      <td>Standard deviation</td>\n",
       "      <td>71.3</td>\n",
       "      <td>38.8</td>\n",
       "      <td>43.6</td>\n",
       "      <td>66.8</td>\n",
       "      <td>151.2</td>\n",
       "      <td>147.0</td>\n",
       "      <td>151.9</td>\n",
       "      <td>142.6</td>\n",
       "      <td>146.7</td>\n",
       "      <td>99.4</td>\n",
       "      <td>119.4</td>\n",
       "      <td>129.5</td>\n",
       "    </tr>\n",
       "    <tr>\n",
       "      <th>2</th>\n",
       "      <td>ANDAMAN &amp; NICOBAR ISLANDS</td>\n",
       "      <td>1901-2015</td>\n",
       "      <td>Coefficient of variation</td>\n",
       "      <td>144.9</td>\n",
       "      <td>140.4</td>\n",
       "      <td>145.5</td>\n",
       "      <td>92.5</td>\n",
       "      <td>42.5</td>\n",
       "      <td>31.2</td>\n",
       "      <td>38.2</td>\n",
       "      <td>35.6</td>\n",
       "      <td>34.0</td>\n",
       "      <td>34.3</td>\n",
       "      <td>51.2</td>\n",
       "      <td>84.5</td>\n",
       "    </tr>\n",
       "    <tr>\n",
       "      <th>3</th>\n",
       "      <td>ANDAMAN &amp; NICOBAR ISLANDS</td>\n",
       "      <td>1901</td>\n",
       "      <td>Actual</td>\n",
       "      <td>49.2</td>\n",
       "      <td>87.1</td>\n",
       "      <td>29.2</td>\n",
       "      <td>2.3</td>\n",
       "      <td>528.8</td>\n",
       "      <td>517.5</td>\n",
       "      <td>365.1</td>\n",
       "      <td>481.1</td>\n",
       "      <td>332.6</td>\n",
       "      <td>388.5</td>\n",
       "      <td>558.2</td>\n",
       "      <td>33.6</td>\n",
       "    </tr>\n",
       "    <tr>\n",
       "      <th>4</th>\n",
       "      <td>ANDAMAN &amp; NICOBAR ISLANDS</td>\n",
       "      <td>1901</td>\n",
       "      <td>Percentage departure</td>\n",
       "      <td>-0.1</td>\n",
       "      <td>215.9</td>\n",
       "      <td>-2.6</td>\n",
       "      <td>-96.8</td>\n",
       "      <td>48.7</td>\n",
       "      <td>9.8</td>\n",
       "      <td>-8.2</td>\n",
       "      <td>20.1</td>\n",
       "      <td>-22.9</td>\n",
       "      <td>34.2</td>\n",
       "      <td>139.5</td>\n",
       "      <td>-78.1</td>\n",
       "    </tr>\n",
       "  </tbody>\n",
       "</table>\n",
       "</div>"
      ],
      "text/plain": [
       "                 SUBDIVISION       YEAR                 Parameter    JAN  \\\n",
       "0  ANDAMAN & NICOBAR ISLANDS  1901-2015                      Mean   49.2   \n",
       "1  ANDAMAN & NICOBAR ISLANDS  1901-2015        Standard deviation   71.3   \n",
       "2  ANDAMAN & NICOBAR ISLANDS  1901-2015  Coefficient of variation  144.9   \n",
       "3  ANDAMAN & NICOBAR ISLANDS       1901                    Actual   49.2   \n",
       "4  ANDAMAN & NICOBAR ISLANDS       1901      Percentage departure   -0.1   \n",
       "\n",
       "     FEB    MAR   APR    MAY    JUN    JUL    AUG    SEP    OCT    NOV    DEC  \n",
       "0   27.6   30.0  72.2  355.6  471.4  397.5  400.5  431.3  289.5  233.0  153.3  \n",
       "1   38.8   43.6  66.8  151.2  147.0  151.9  142.6  146.7   99.4  119.4  129.5  \n",
       "2  140.4  145.5  92.5   42.5   31.2   38.2   35.6   34.0   34.3   51.2   84.5  \n",
       "3   87.1   29.2   2.3  528.8  517.5  365.1  481.1  332.6  388.5  558.2   33.6  \n",
       "4  215.9   -2.6 -96.8   48.7    9.8   -8.2   20.1  -22.9   34.2  139.5  -78.1  "
      ]
     },
     "execution_count": 132,
     "metadata": {},
     "output_type": "execute_result"
    }
   ],
   "source": [
    "df = df.drop(['ANNUAL', 'JF', 'MAM',\n",
    "       'JJAS', 'OND'], axis=1)\n",
    "df.head()"
   ]
  },
  {
   "cell_type": "code",
   "execution_count": 133,
   "metadata": {},
   "outputs": [
    {
     "name": "stdout",
     "output_type": "stream",
     "text": [
      "297\n"
     ]
    }
   ],
   "source": [
    "print(df.isnull().sum().sum())"
   ]
  },
  {
   "cell_type": "markdown",
   "metadata": {},
   "source": [
    "We can see that the current dataset has 297 NaN values that we need to take care of"
   ]
  },
  {
   "cell_type": "code",
   "execution_count": 134,
   "metadata": {},
   "outputs": [],
   "source": [
    "df_actual = pd.DataFrame(columns = ['SUBDIVISION', 'YEAR', 'Parameter', 'JAN', 'FEB', 'MAR', 'APR', 'MAY',\n",
    "       'JUN', 'JUL', 'AUG', 'SEP', 'OCT', 'NOV', 'DEC'])\n",
    "df_per_dep = df_actual\n",
    "df_no_dis = df_actual"
   ]
  },
  {
   "cell_type": "code",
   "execution_count": 135,
   "metadata": {},
   "outputs": [],
   "source": [
    "for i in range(0, df.shape[0]):\n",
    "    if df.loc[i][\"Parameter\"] == \"Actual\":\n",
    "        df_actual = df_actual.append(df.loc[i])\n",
    "    elif df.loc[i][\"Parameter\"] == \"Percentage departure\":\n",
    "        df_per_dep = df_per_dep.append(df.loc[i])\n",
    "    elif df.loc[i][\"Parameter\"] == \"No. of districts\":\n",
    "        df_no_dis = df_no_dis.append(df.loc[i])"
   ]
  },
  {
   "cell_type": "markdown",
   "metadata": {},
   "source": [
    "We split the data frame into 3 categories accroding to their paramter - <br>\n",
    "1) Actual <br>\n",
    "2) Percentage Departure <br>\n",
    "3) No. of districts <br>"
   ]
  },
  {
   "cell_type": "code",
   "execution_count": 136,
   "metadata": {},
   "outputs": [
    {
     "name": "stdout",
     "output_type": "stream",
     "text": [
      "(4116, 15)\n",
      "(4116, 15)\n",
      "(4116, 15)\n"
     ]
    }
   ],
   "source": [
    "print(df_actual.shape)\n",
    "print(df_per_dep.shape)\n",
    "print(df_per_dep.shape)"
   ]
  },
  {
   "cell_type": "code",
   "execution_count": 137,
   "metadata": {},
   "outputs": [
    {
     "name": "stdout",
     "output_type": "stream",
     "text": [
      "70\n",
      "227\n",
      "0\n",
      "297\n"
     ]
    }
   ],
   "source": [
    "print(df_actual.isnull().sum().sum())\n",
    "print(df_per_dep.isnull().sum().sum())\n",
    "print(df_no_dis.isnull().sum().sum())\n",
    "print(df.isnull().sum().sum())"
   ]
  },
  {
   "cell_type": "markdown",
   "metadata": {},
   "source": [
    "We can see the break up on NaN values in each category <br>\n",
    "We use the interpolate function of pandas to fill in these NaN values with the average of the year before and year after. <br>\n",
    "Eg - if 1923 has an NaN value, it will be replaced with the average of 1922 and 1924"
   ]
  },
  {
   "cell_type": "code",
   "execution_count": 138,
   "metadata": {},
   "outputs": [],
   "source": [
    "df_actual = df_actual.interpolate(method='linear', limit_direction='both')\n",
    "df_per_dep = df_per_dep.interpolate(method='linear', limit_direction='both')\n",
    "df_no_dis = df_no_dis.interpolate(method='linear', limit_direction='both')"
   ]
  },
  {
   "cell_type": "code",
   "execution_count": 139,
   "metadata": {},
   "outputs": [
    {
     "name": "stdout",
     "output_type": "stream",
     "text": [
      "0\n",
      "0\n",
      "0\n"
     ]
    }
   ],
   "source": [
    "print(df_actual.isnull().sum().sum())\n",
    "print(df_per_dep.isnull().sum().sum())\n",
    "print(df_no_dis.isnull().sum().sum())"
   ]
  },
  {
   "cell_type": "markdown",
   "metadata": {},
   "source": [
    "As we can see, there are now no NaN values!"
   ]
  },
  {
   "cell_type": "code",
   "execution_count": 128,
   "metadata": {},
   "outputs": [],
   "source": [
    "df_actual.to_csv(\"F:\\\\School\\\\2-2\\\\Data Mining\\\\Project\\\\rainfall_actual.csv\")\n",
    "df_per_dep.to_csv(\"F:\\\\School\\\\2-2\\\\Data Mining\\\\Project\\\\rainfall_per_dep.csv\")\n",
    "df_no_dis.to_csv(\"F:\\\\School\\\\2-2\\\\Data Mining\\\\Project\\\\rainfall_no_dis.csv\")"
   ]
  },
  {
   "cell_type": "markdown",
   "metadata": {},
   "source": [
    "We finish by saving these dataframes as csv workbooks so we can use them for further analysis"
   ]
  },
  {
   "cell_type": "code",
   "execution_count": null,
   "metadata": {},
   "outputs": [],
   "source": []
  }
 ],
 "metadata": {
  "kernelspec": {
   "display_name": "Python 3",
   "language": "python",
   "name": "python3"
  },
  "language_info": {
   "codemirror_mode": {
    "name": "ipython",
    "version": 3
   },
   "file_extension": ".py",
   "mimetype": "text/x-python",
   "name": "python",
   "nbconvert_exporter": "python",
   "pygments_lexer": "ipython3",
   "version": "3.7.3"
  }
 },
 "nbformat": 4,
 "nbformat_minor": 2
}

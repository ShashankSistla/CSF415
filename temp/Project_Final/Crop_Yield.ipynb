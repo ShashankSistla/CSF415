{
 "cells": [
  {
   "cell_type": "markdown",
   "metadata": {},
   "source": [
    "## Importing Libraries and Opening Files\n",
    "We Import pandas and numpy for this task"
   ]
  },
  {
   "cell_type": "code",
   "execution_count": 2,
   "metadata": {},
   "outputs": [
    {
     "name": "stdout",
     "output_type": "stream",
     "text": [
      "                    State_Name District_Name  Crop_Year       Season  \\\n",
      "0  Andaman and Nicobar Islands      NICOBARS       2000  Kharif        \n",
      "1  Andaman and Nicobar Islands      NICOBARS       2000  Kharif        \n",
      "2  Andaman and Nicobar Islands      NICOBARS       2000  Kharif        \n",
      "3  Andaman and Nicobar Islands      NICOBARS       2000  Whole Year    \n",
      "4  Andaman and Nicobar Islands      NICOBARS       2000  Whole Year    \n",
      "\n",
      "                  Crop    Area  Production  \n",
      "0             Arecanut  1254.0      2000.0  \n",
      "1  Other Kharif pulses     2.0         1.0  \n",
      "2                 Rice   102.0       321.0  \n",
      "3               Banana   176.0       641.0  \n",
      "4            Cashewnut   720.0       165.0  \n"
     ]
    }
   ],
   "source": [
    "import pandas as pd\n",
    "import numpy as np\n",
    "df=pd.read_csv(\"apy.csv\")\n",
    "print(df.head())\n",
    "df = df.head(1000)\n"
   ]
  },
  {
   "cell_type": "markdown",
   "metadata": {},
   "source": [
    "## Making blanks as nan, and dropping crops we dont have any data on\n"
   ]
  },
  {
   "cell_type": "code",
   "execution_count": 3,
   "metadata": {},
   "outputs": [
    {
     "name": "stdout",
     "output_type": "stream",
     "text": [
      "                                Area  Production\n",
      "Crop                                            \n",
      "Arecanut                    38294.82    51431.81\n",
      "Arhar/Tur                  636021.00   150664.00\n",
      "Bajra                       32825.00    27088.00\n",
      "Banana                      45157.89  1798958.65\n",
      "Beans & Mutter(Vegetable)       1.00        5.00\n",
      "(994, 7)\n"
     ]
    }
   ],
   "source": [
    "df=df.replace(r'^\\s*$', np.nan, regex=True)\n",
    "df2=df.groupby('Crop')[['Area', 'Production']].sum()\n",
    "print(df2.head())\n",
    "\n",
    "for indexes, row in df.iterrows():\n",
    "    if(df2.loc[row['Crop']]['Production']==0):\n",
    "        df.drop(df.index[indexes], inplace=True)\n",
    "print(df.shape)"
   ]
  },
  {
   "cell_type": "markdown",
   "metadata": {},
   "source": [
    "## Replacing nans with mean value of that crop per unit area times area of that crop in particular district"
   ]
  },
  {
   "cell_type": "code",
   "execution_count": 4,
   "metadata": {},
   "outputs": [],
   "source": [
    "for indexes, row in df.iterrows():\n",
    "    if(pd.isna(df.loc[indexes]['Production'])):\n",
    "        df.at[indexes, 'Production'] = (df2.loc[df.loc[indexes]['Crop']]['Production']/df2.loc[df.loc[indexes]['Crop']]['Area'])*(df.loc[indexes]['Area'])"
   ]
  },
  {
   "cell_type": "markdown",
   "metadata": {},
   "source": [
    "Replacing each year with year-year%3, so we can make year ranges of 3 years"
   ]
  },
  {
   "cell_type": "code",
   "execution_count": 5,
   "metadata": {},
   "outputs": [],
   "source": [
    "for indexes, row in df.iterrows():\n",
    "    crop_year=df.at[indexes, 'Crop_Year']\n",
    "    df.at[indexes, 'Crop_Year']=crop_year-crop_year%3\n"
   ]
  },
  {
   "cell_type": "markdown",
   "metadata": {},
   "source": [
    "## Binning data into groups of 3 years\n",
    "and grouping by district, crop, year range, season"
   ]
  },
  {
   "cell_type": "code",
   "execution_count": 6,
   "metadata": {},
   "outputs": [
    {
     "name": "stdout",
     "output_type": "stream",
     "text": [
      "                                                              Area  Production\n",
      "District_Name Season      Year_Range Crop                                     \n",
      "ANANTAPUR     Kharif      1995-1998  Arhar/Tur             21400.0      2600.0\n",
      "                                     Bajra                  1400.0       500.0\n",
      "                                     Castor seed            1000.0       100.0\n",
      "                                     Cotton(lint)           7300.0      9400.0\n",
      "                                     Dry chillies           3700.0      7100.0\n",
      "                                     Groundnut            650800.0    228400.0\n",
      "                                     Horse-gram             3300.0      1000.0\n",
      "                                     Jowar                 10100.0     10200.0\n",
      "                                     Korra                  2200.0       700.0\n",
      "                                     Maize                  2800.0      4900.0\n",
      "                                     Moong(Green Gram)      1300.0       500.0\n",
      "                                     Other Kharif pulses     800.0       100.0\n",
      "                                     Ragi                   6700.0     11800.0\n",
      "                                     Rice                  35600.0     75400.0\n",
      "                                     Sugarcane               700.0     72900.0\n"
     ]
    }
   ],
   "source": [
    "#print(df.head())\n",
    "foo = df['Crop_Year'].to_numpy()\n",
    "\n",
    "foo_string = [str(x)+\"-\"+ str(x+3) for x in foo]\n",
    "# print(foo_string)\n",
    "df['Year_Range'] = foo_string\n",
    "df=df.drop('Crop_Year', axis=1)\n",
    "df_new=df.groupby(['District_Name', 'Season', 'Year_Range', 'Crop']).sum()\n",
    "#print(df.head(20))\n",
    "print(df_new.head(15))"
   ]
  },
  {
   "cell_type": "markdown",
   "metadata": {},
   "source": [
    "saving as a new CSV file"
   ]
  },
  {
   "cell_type": "code",
   "execution_count": 7,
   "metadata": {},
   "outputs": [],
   "source": [
    "df_new.to_csv(r'apy_apdated.csv')"
   ]
  },
  {
   "cell_type": "code",
   "execution_count": 11,
   "metadata": {},
   "outputs": [
    {
     "name": "stdout",
     "output_type": "stream",
     "text": [
      "                                Area    Production\n",
      "Crop                                              \n",
      "Arecanut                    37938.82  5.233143e+04\n",
      "Arhar/Tur                  636021.00  1.506640e+05\n",
      "Bajra                       32825.00  2.708800e+04\n",
      "Banana                      45157.89  1.798959e+06\n",
      "Beans & Mutter(Vegetable)       1.00  5.000000e+00\n"
     ]
    },
    {
     "data": {
      "image/png": "[encoded data removed]",
      "text/plain": [
       "<Figure size 432x288 with 1 Axes>"
      ]
     },
     "metadata": {},
     "output_type": "display_data"
    }
   ],
   "source": [
    "import seaborn as sns\n",
    "sns.set(style=\"whitegrid\")\n",
    "df_wheat=df.groupby('Crop').sum()\n",
    "print(df_wheat.head())\n",
    "df_wheat.reset_index(inplace=True)\n",
    "ax = sns.barplot(x=\"Crop\", y=\"Production\", data=df_wheat.iloc[0:3])\n",
    "\n",
    "\n",
    "\n",
    "\n"
   ]
  },
  {
   "cell_type": "code",
   "execution_count": 13,
   "metadata": {},
   "outputs": [
    {
     "data": {
      "image/png": "[encoded data removed]",
      "text/plain": [
       "<Figure size 432x288 with 1 Axes>"
      ]
     },
     "metadata": {},
     "output_type": "display_data"
    }
   ],
   "source": [
    "#df_wheat.reset_index(inplace=True)\n",
    "ax = sns.boxplot(x=\"Crop\", y=\"Production\", data=df_wheat.iloc[0:3])\n",
    "\n"
   ]
  },
  {
   "cell_type": "code",
   "execution_count": 15,
   "metadata": {},
   "outputs": [
    {
     "data": {
      "image/png": "[encoded data removed]",
      "text/plain": [
       "<Figure size 432x288 with 1 Axes>"
      ]
     },
     "metadata": {},
     "output_type": "display_data"
    }
   ],
   "source": [
    "ax = sns.scatterplot(x=\"Crop\", y=\"Production\", data=df_wheat.iloc[0:3])\n",
    "\n",
    "fig = ax.get_figure()\n",
    "fig.savefig(\"scatter_plot.jpg\")"
   ]
  },
  {
   "cell_type": "code",
   "execution_count": null,
   "metadata": {},
   "outputs": [],
   "source": []
  }
 ],
 "metadata": {
  "kernelspec": {
   "display_name": "Python 3",
   "language": "python",
   "name": "python3"
  },
  "language_info": {
   "codemirror_mode": {
    "name": "ipython",
    "version": 3
   },
   "file_extension": ".py",
   "mimetype": "text/x-python",
   "name": "python",
   "nbconvert_exporter": "python",
   "pygments_lexer": "ipython3",
   "version": "3.7.3"
  }
 },
 "nbformat": 4,
 "nbformat_minor": 2
}

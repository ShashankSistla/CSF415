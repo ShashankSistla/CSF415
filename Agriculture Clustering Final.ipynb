{
 "cells": [
  {
   "cell_type": "code",
   "execution_count": 1,
   "metadata": {},
   "outputs": [],
   "source": [
    "import pandas as pd\n",
    "import numpy as np\n",
    "import matplotlib.pyplot as plt\n",
    "import seaborn as sns\n",
    "import plotly\n",
    "import plotly.graph_objs as go\n",
    "import random as rd\n",
    "import plotly.express as px"
   ]
  },
  {
   "cell_type": "markdown",
   "metadata": {},
   "source": [
    "Before we get started, we import the dataset to be analysed and learn a bit about it.\n",
    "Since we have the water quality data for the year 2014, we'll focus on the 2014 production here"
   ]
  },
  {
   "cell_type": "code",
   "execution_count": 2,
   "metadata": {},
   "outputs": [
    {
     "ename": "FileNotFoundError",
     "evalue": "[Errno 2] File b'apy.csv' does not exist: b'apy.csv'",
     "output_type": "error",
     "traceback": [
      "\u001b[1;31m---------------------------------------------------------------------------\u001b[0m",
      "\u001b[1;31mFileNotFoundError\u001b[0m                         Traceback (most recent call last)",
      "\u001b[1;32m<ipython-input-2-799ded93ac28>\u001b[0m in \u001b[0;36m<module>\u001b[1;34m\u001b[0m\n\u001b[1;32m----> 1\u001b[1;33m \u001b[0mdf\u001b[0m \u001b[1;33m=\u001b[0m \u001b[0mpd\u001b[0m\u001b[1;33m.\u001b[0m\u001b[0mread_csv\u001b[0m\u001b[1;33m(\u001b[0m\u001b[1;34m\"apy.csv\"\u001b[0m\u001b[1;33m)\u001b[0m\u001b[1;33m\u001b[0m\u001b[1;33m\u001b[0m\u001b[0m\n\u001b[0m\u001b[0;32m      2\u001b[0m \u001b[0mdf_2014\u001b[0m \u001b[1;33m=\u001b[0m \u001b[0mdf\u001b[0m\u001b[1;33m[\u001b[0m\u001b[0mdf\u001b[0m\u001b[1;33m[\u001b[0m\u001b[1;34m\"Crop_Year\"\u001b[0m\u001b[1;33m]\u001b[0m \u001b[1;33m==\u001b[0m \u001b[1;36m2014\u001b[0m\u001b[1;33m]\u001b[0m\u001b[1;33m\u001b[0m\u001b[1;33m\u001b[0m\u001b[0m\n\u001b[0;32m      3\u001b[0m \u001b[0mdf_2014\u001b[0m\u001b[1;33m.\u001b[0m\u001b[0mhead\u001b[0m\u001b[1;33m(\u001b[0m\u001b[1;33m)\u001b[0m\u001b[1;33m\u001b[0m\u001b[1;33m\u001b[0m\u001b[0m\n",
      "\u001b[1;32m~\\Anaconda3\\lib\\site-packages\\pandas\\io\\parsers.py\u001b[0m in \u001b[0;36mparser_f\u001b[1;34m(filepath_or_buffer, sep, delimiter, header, names, index_col, usecols, squeeze, prefix, mangle_dupe_cols, dtype, engine, converters, true_values, false_values, skipinitialspace, skiprows, skipfooter, nrows, na_values, keep_default_na, na_filter, verbose, skip_blank_lines, parse_dates, infer_datetime_format, keep_date_col, date_parser, dayfirst, iterator, chunksize, compression, thousands, decimal, lineterminator, quotechar, quoting, doublequote, escapechar, comment, encoding, dialect, tupleize_cols, error_bad_lines, warn_bad_lines, delim_whitespace, low_memory, memory_map, float_precision)\u001b[0m\n\u001b[0;32m    700\u001b[0m                     skip_blank_lines=skip_blank_lines)\n\u001b[0;32m    701\u001b[0m \u001b[1;33m\u001b[0m\u001b[0m\n\u001b[1;32m--> 702\u001b[1;33m         \u001b[1;32mreturn\u001b[0m \u001b[0m_read\u001b[0m\u001b[1;33m(\u001b[0m\u001b[0mfilepath_or_buffer\u001b[0m\u001b[1;33m,\u001b[0m \u001b[0mkwds\u001b[0m\u001b[1;33m)\u001b[0m\u001b[1;33m\u001b[0m\u001b[1;33m\u001b[0m\u001b[0m\n\u001b[0m\u001b[0;32m    703\u001b[0m \u001b[1;33m\u001b[0m\u001b[0m\n\u001b[0;32m    704\u001b[0m     \u001b[0mparser_f\u001b[0m\u001b[1;33m.\u001b[0m\u001b[0m__name__\u001b[0m \u001b[1;33m=\u001b[0m \u001b[0mname\u001b[0m\u001b[1;33m\u001b[0m\u001b[1;33m\u001b[0m\u001b[0m\n",
      "\u001b[1;32m~\\Anaconda3\\lib\\site-packages\\pandas\\io\\parsers.py\u001b[0m in \u001b[0;36m_read\u001b[1;34m(filepath_or_buffer, kwds)\u001b[0m\n\u001b[0;32m    427\u001b[0m \u001b[1;33m\u001b[0m\u001b[0m\n\u001b[0;32m    428\u001b[0m     \u001b[1;31m# Create the parser.\u001b[0m\u001b[1;33m\u001b[0m\u001b[1;33m\u001b[0m\u001b[1;33m\u001b[0m\u001b[0m\n\u001b[1;32m--> 429\u001b[1;33m     \u001b[0mparser\u001b[0m \u001b[1;33m=\u001b[0m \u001b[0mTextFileReader\u001b[0m\u001b[1;33m(\u001b[0m\u001b[0mfilepath_or_buffer\u001b[0m\u001b[1;33m,\u001b[0m \u001b[1;33m**\u001b[0m\u001b[0mkwds\u001b[0m\u001b[1;33m)\u001b[0m\u001b[1;33m\u001b[0m\u001b[1;33m\u001b[0m\u001b[0m\n\u001b[0m\u001b[0;32m    430\u001b[0m \u001b[1;33m\u001b[0m\u001b[0m\n\u001b[0;32m    431\u001b[0m     \u001b[1;32mif\u001b[0m \u001b[0mchunksize\u001b[0m \u001b[1;32mor\u001b[0m \u001b[0miterator\u001b[0m\u001b[1;33m:\u001b[0m\u001b[1;33m\u001b[0m\u001b[1;33m\u001b[0m\u001b[0m\n",
      "\u001b[1;32m~\\Anaconda3\\lib\\site-packages\\pandas\\io\\parsers.py\u001b[0m in \u001b[0;36m__init__\u001b[1;34m(self, f, engine, **kwds)\u001b[0m\n\u001b[0;32m    893\u001b[0m             \u001b[0mself\u001b[0m\u001b[1;33m.\u001b[0m\u001b[0moptions\u001b[0m\u001b[1;33m[\u001b[0m\u001b[1;34m'has_index_names'\u001b[0m\u001b[1;33m]\u001b[0m \u001b[1;33m=\u001b[0m \u001b[0mkwds\u001b[0m\u001b[1;33m[\u001b[0m\u001b[1;34m'has_index_names'\u001b[0m\u001b[1;33m]\u001b[0m\u001b[1;33m\u001b[0m\u001b[1;33m\u001b[0m\u001b[0m\n\u001b[0;32m    894\u001b[0m \u001b[1;33m\u001b[0m\u001b[0m\n\u001b[1;32m--> 895\u001b[1;33m         \u001b[0mself\u001b[0m\u001b[1;33m.\u001b[0m\u001b[0m_make_engine\u001b[0m\u001b[1;33m(\u001b[0m\u001b[0mself\u001b[0m\u001b[1;33m.\u001b[0m\u001b[0mengine\u001b[0m\u001b[1;33m)\u001b[0m\u001b[1;33m\u001b[0m\u001b[1;33m\u001b[0m\u001b[0m\n\u001b[0m\u001b[0;32m    896\u001b[0m \u001b[1;33m\u001b[0m\u001b[0m\n\u001b[0;32m    897\u001b[0m     \u001b[1;32mdef\u001b[0m \u001b[0mclose\u001b[0m\u001b[1;33m(\u001b[0m\u001b[0mself\u001b[0m\u001b[1;33m)\u001b[0m\u001b[1;33m:\u001b[0m\u001b[1;33m\u001b[0m\u001b[1;33m\u001b[0m\u001b[0m\n",
      "\u001b[1;32m~\\Anaconda3\\lib\\site-packages\\pandas\\io\\parsers.py\u001b[0m in \u001b[0;36m_make_engine\u001b[1;34m(self, engine)\u001b[0m\n\u001b[0;32m   1120\u001b[0m     \u001b[1;32mdef\u001b[0m \u001b[0m_make_engine\u001b[0m\u001b[1;33m(\u001b[0m\u001b[0mself\u001b[0m\u001b[1;33m,\u001b[0m \u001b[0mengine\u001b[0m\u001b[1;33m=\u001b[0m\u001b[1;34m'c'\u001b[0m\u001b[1;33m)\u001b[0m\u001b[1;33m:\u001b[0m\u001b[1;33m\u001b[0m\u001b[1;33m\u001b[0m\u001b[0m\n\u001b[0;32m   1121\u001b[0m         \u001b[1;32mif\u001b[0m \u001b[0mengine\u001b[0m \u001b[1;33m==\u001b[0m \u001b[1;34m'c'\u001b[0m\u001b[1;33m:\u001b[0m\u001b[1;33m\u001b[0m\u001b[1;33m\u001b[0m\u001b[0m\n\u001b[1;32m-> 1122\u001b[1;33m             \u001b[0mself\u001b[0m\u001b[1;33m.\u001b[0m\u001b[0m_engine\u001b[0m \u001b[1;33m=\u001b[0m \u001b[0mCParserWrapper\u001b[0m\u001b[1;33m(\u001b[0m\u001b[0mself\u001b[0m\u001b[1;33m.\u001b[0m\u001b[0mf\u001b[0m\u001b[1;33m,\u001b[0m \u001b[1;33m**\u001b[0m\u001b[0mself\u001b[0m\u001b[1;33m.\u001b[0m\u001b[0moptions\u001b[0m\u001b[1;33m)\u001b[0m\u001b[1;33m\u001b[0m\u001b[1;33m\u001b[0m\u001b[0m\n\u001b[0m\u001b[0;32m   1123\u001b[0m         \u001b[1;32melse\u001b[0m\u001b[1;33m:\u001b[0m\u001b[1;33m\u001b[0m\u001b[1;33m\u001b[0m\u001b[0m\n\u001b[0;32m   1124\u001b[0m             \u001b[1;32mif\u001b[0m \u001b[0mengine\u001b[0m \u001b[1;33m==\u001b[0m \u001b[1;34m'python'\u001b[0m\u001b[1;33m:\u001b[0m\u001b[1;33m\u001b[0m\u001b[1;33m\u001b[0m\u001b[0m\n",
      "\u001b[1;32m~\\Anaconda3\\lib\\site-packages\\pandas\\io\\parsers.py\u001b[0m in \u001b[0;36m__init__\u001b[1;34m(self, src, **kwds)\u001b[0m\n\u001b[0;32m   1851\u001b[0m         \u001b[0mkwds\u001b[0m\u001b[1;33m[\u001b[0m\u001b[1;34m'usecols'\u001b[0m\u001b[1;33m]\u001b[0m \u001b[1;33m=\u001b[0m \u001b[0mself\u001b[0m\u001b[1;33m.\u001b[0m\u001b[0musecols\u001b[0m\u001b[1;33m\u001b[0m\u001b[1;33m\u001b[0m\u001b[0m\n\u001b[0;32m   1852\u001b[0m \u001b[1;33m\u001b[0m\u001b[0m\n\u001b[1;32m-> 1853\u001b[1;33m         \u001b[0mself\u001b[0m\u001b[1;33m.\u001b[0m\u001b[0m_reader\u001b[0m \u001b[1;33m=\u001b[0m \u001b[0mparsers\u001b[0m\u001b[1;33m.\u001b[0m\u001b[0mTextReader\u001b[0m\u001b[1;33m(\u001b[0m\u001b[0msrc\u001b[0m\u001b[1;33m,\u001b[0m \u001b[1;33m**\u001b[0m\u001b[0mkwds\u001b[0m\u001b[1;33m)\u001b[0m\u001b[1;33m\u001b[0m\u001b[1;33m\u001b[0m\u001b[0m\n\u001b[0m\u001b[0;32m   1854\u001b[0m         \u001b[0mself\u001b[0m\u001b[1;33m.\u001b[0m\u001b[0munnamed_cols\u001b[0m \u001b[1;33m=\u001b[0m \u001b[0mself\u001b[0m\u001b[1;33m.\u001b[0m\u001b[0m_reader\u001b[0m\u001b[1;33m.\u001b[0m\u001b[0munnamed_cols\u001b[0m\u001b[1;33m\u001b[0m\u001b[1;33m\u001b[0m\u001b[0m\n\u001b[0;32m   1855\u001b[0m \u001b[1;33m\u001b[0m\u001b[0m\n",
      "\u001b[1;32mpandas/_libs/parsers.pyx\u001b[0m in \u001b[0;36mpandas._libs.parsers.TextReader.__cinit__\u001b[1;34m()\u001b[0m\n",
      "\u001b[1;32mpandas/_libs/parsers.pyx\u001b[0m in \u001b[0;36mpandas._libs.parsers.TextReader._setup_parser_source\u001b[1;34m()\u001b[0m\n",
      "\u001b[1;31mFileNotFoundError\u001b[0m: [Errno 2] File b'apy.csv' does not exist: b'apy.csv'"
     ]
    }
   ],
   "source": [
    "df = pd.read_csv(\"apy.csv\")\n",
    "df_2014 = df[df[\"Crop_Year\"] == 2014]\n",
    "df_2014.head()"
   ]
  },
  {
   "cell_type": "code",
   "execution_count": null,
   "metadata": {},
   "outputs": [],
   "source": [
    "df_2014[\"Season\"].unique()"
   ]
  },
  {
   "cell_type": "markdown",
   "metadata": {},
   "source": [
    "We'll cluster separately based on the seasons above"
   ]
  },
  {
   "cell_type": "markdown",
   "metadata": {},
   "source": [
    "First, let's define a few helper functions we'll call throughout the notebook"
   ]
  },
  {
   "cell_type": "markdown",
   "metadata": {},
   "source": [
    "## K Means Clustering"
   ]
  },
  {
   "cell_type": "code",
   "execution_count": null,
   "metadata": {},
   "outputs": [],
   "source": [
    "def k_means(k, dfa, n_iter):\n",
    "    centroids = np.array([]).reshape(n, 0)\n",
    "    for i in range(k):\n",
    "        rand = rd.randint(0, m-1)\n",
    "        centroids = np.c_[centroids, dfa[rand]]\n",
    "        \n",
    "    for i in range(n_iter):\n",
    "        dist_mat = np.array([]).reshape(m, 0)\n",
    "        for i in range(k):\n",
    "            tempDist = np.sum((dfa-centroids[:, i])**2, axis=1)\n",
    "            dist_mat = np.c_[dist_mat, tempDist]\n",
    "\n",
    "        C = np.argmin(dist_mat, axis=1)+1\n",
    "\n",
    "        Y={}\n",
    "        for i in range(k):\n",
    "            Y[i+1]=np.array([]).reshape(n,0)\n",
    "        for i in range(m):\n",
    "            Y[C[i]]=np.c_[Y[C[i]],dfa[i]]\n",
    "\n",
    "        for i in range(k):\n",
    "            Y[i+1]=Y[i+1].T\n",
    "\n",
    "        for i in range(k):\n",
    "            centroids[:,i]=np.mean(Y[i+1],axis=0)\n",
    "        Output=Y\n",
    "        \n",
    "    return Output, centroids"
   ]
  },
  {
   "cell_type": "code",
   "execution_count": null,
   "metadata": {},
   "outputs": [],
   "source": [
    "def calc_wss(k, output, centroids):\n",
    "    for i in range(k):\n",
    "        c = i+1\n",
    "        sum = 0\n",
    "        sum += cost(c, centroids, output)\n",
    "        \n",
    "    return sum\n",
    "\n",
    "def cost(n, centroids, output):\n",
    "    center = centroids.T[n-1]\n",
    "    dist = 0\n",
    "    for i in range(output[n].shape[0]):\n",
    "        dist += np.linalg.norm(center - output[n][i])\n",
    "    return dist"
   ]
  },
  {
   "cell_type": "code",
   "execution_count": null,
   "metadata": {},
   "outputs": [],
   "source": [
    "def make_elbow_graph(dfa):\n",
    "    for k in range(1, 5):\n",
    "        output, centroids = k_means(k, dfa, 300)\n",
    "        sum = calc_wss(k, output, centroids)\n",
    "        k_scores[k] = sum"
   ]
  },
  {
   "cell_type": "markdown",
   "metadata": {},
   "source": [
    "## DBSCAN"
   ]
  },
  {
   "cell_type": "code",
   "execution_count": null,
   "metadata": {},
   "outputs": [],
   "source": [
    "def dbscan(D, eps, MinPts):\n",
    "    labels = [0]*len(D)\n",
    "    C = 0\n",
    "    \n",
    "    for P in range(len(D)):\n",
    "        if labels[P] != 0:\n",
    "            continue\n",
    "            \n",
    "        NeighbourPts = regionQuery(D, P, eps)\n",
    "        if len(NeighbourPts) < MinPts:\n",
    "            labels[P] = -1\n",
    "        else:\n",
    "            C += 1\n",
    "            growCluster(D, labels, P, NeighbourPts, C, eps, MinPts)\n",
    "    \n",
    "    return labels"
   ]
  },
  {
   "cell_type": "code",
   "execution_count": null,
   "metadata": {},
   "outputs": [],
   "source": [
    "def growCluster(D, labels, P, NeighbourPts, C, eps, MinPts):\n",
    "    labels[P] = C\n",
    "    i = 0\n",
    "    while i < len(NeighbourPts):\n",
    "        Pn = NeighbourPts[i]\n",
    "        if labels[Pn] == -1:\n",
    "            labels[Pn] = C\n",
    "        elif labels[Pn] == 0:\n",
    "            labels[Pn] = C\n",
    "            PnNeighbours = regionQuery(D, Pn, eps)\n",
    "            \n",
    "            if len(PnNeighbours) >= MinPts:\n",
    "                NeighbourPts += PnNeighbours\n",
    "                \n",
    "        i += 1"
   ]
  },
  {
   "cell_type": "code",
   "execution_count": null,
   "metadata": {},
   "outputs": [],
   "source": [
    "def regionQuery(D, P, eps):\n",
    "    neighbours = []\n",
    "    \n",
    "    for Pn in range(len(D)):\n",
    "        if np.linalg.norm(D[P] - D[Pn]) < eps:\n",
    "            neighbours.append(Pn)\n",
    "            \n",
    "    return neighbours"
   ]
  },
  {
   "cell_type": "markdown",
   "metadata": {},
   "source": [
    "## Other functions"
   ]
  },
  {
   "cell_type": "code",
   "execution_count": null,
   "metadata": {},
   "outputs": [],
   "source": [
    "def make_dfa(df):\n",
    "    df_1 = df.groupby('State_Name', as_index=False).sum()\n",
    "    df_1[\"Prod/Area\"] = df_1[\"Production\"]/df_1[\"Area\"]\n",
    "    dfa = df_1.drop([\"State_Name\", \"Area\", \"Production\"], axis=1)\n",
    "    dfa = np.array(dfa)\n",
    "    dfa, mu, sigma = normalize_data(dfa)\n",
    "    return dfa, df_1"
   ]
  },
  {
   "cell_type": "code",
   "execution_count": null,
   "metadata": {},
   "outputs": [],
   "source": [
    "def plot_graph(k, dfa):\n",
    "    output, centroids = k_means(k, dfa, 300)\n",
    "    color=['red','blue', 'green' 'yellow']\n",
    "    labels=['cluster1','cluster2', 'cluster3']\n",
    "    for i in range(k):\n",
    "        plt.plot(output[i+1][:,0],\"*\", c=color[i],label=labels[i])\n",
    "    plt.xlabel('0')\n",
    "    plt.legend()\n",
    "    plt.show()\n",
    "    return output"
   ]
  },
  {
   "cell_type": "code",
   "execution_count": null,
   "metadata": {},
   "outputs": [],
   "source": [
    "def make_clusters_k(k, output, dfa, df):\n",
    "    for i in range(k):\n",
    "        for j in range(output[i+1].shape[0]):\n",
    "            a = output[i+1][j]\n",
    "            for z in range(m):\n",
    "                b = np.array(dfa[z])\n",
    "                if(np.sum(a-b) == 0.0):\n",
    "                    if i == 0:\n",
    "                        cluster_1.append(z)\n",
    "                    elif i == 1:\n",
    "                        cluster_2.append(z)\n",
    "                    \n",
    "    clusters = {1:[], 2:[]}\n",
    "    for i in range(len(cluster_1)):\n",
    "        clusters[1].append(df.iloc[cluster_1[i]][\"State_Name\"])\n",
    "    for i in range(len(cluster_2)):\n",
    "        clusters[2].append(df.iloc[cluster_2[i]][\"State_Name\"])\n",
    "        \n",
    "    return clusters"
   ]
  },
  {
   "cell_type": "code",
   "execution_count": null,
   "metadata": {},
   "outputs": [],
   "source": [
    "def make_clusters_k3(k, output, dfa, df):\n",
    "    for i in range(k):\n",
    "        for j in range(output[i+1].shape[0]):\n",
    "            a = output[i+1][j]\n",
    "            for z in range(m):\n",
    "                b = np.array(dfa[z])\n",
    "                if(np.sum(a-b) == 0.0):\n",
    "                    if i == 0:\n",
    "                        cluster_1.append(z)\n",
    "                    elif i == 1:\n",
    "                        cluster_2.append(z)\n",
    "                    elif i == 2:\n",
    "                        cluster_3.append(z)\n",
    "                    \n",
    "    clusters = {1:[], 2:[]}\n",
    "    for i in range(len(cluster_1)):\n",
    "        clusters[1].append(df.iloc[cluster_1[i]][\"State_Name\"])\n",
    "    for i in range(len(cluster_2)):\n",
    "        clusters[2].append(df.iloc[cluster_2[i]][\"State_Name\"])\n",
    "    for i in range(len(cluster_3)):\n",
    "        clusters[3].append(df.iloc[cluster_3[i]][\"State_Name\"])\n",
    "        \n",
    "    return clusters"
   ]
  },
  {
   "cell_type": "code",
   "execution_count": null,
   "metadata": {},
   "outputs": [],
   "source": [
    "def make_map(clusters, season):\n",
    "    df_loc = pd.read_csv(\"states.csv\")\n",
    "\n",
    "    for i in range(df_loc.shape[0]):\n",
    "        state = df_loc.iloc[i][\"State\"].lower()\n",
    "        for j in range(1, len(clusters)+1):\n",
    "            for c in range(len(clusters[j])):\n",
    "                temp = clusters[j][c].lower()\n",
    "                if state == temp:\n",
    "                    df_loc.set_value(i, \"Cluster_db\", j)\n",
    "                    #print(\"match\")\n",
    "\n",
    "    df_loc = df_loc.dropna()\n",
    "    fig = px.scatter_geo(df_loc,\n",
    "                       lat=\"Latitude\",\n",
    "                       lon=\"Longitude\",\n",
    "                       color=\"Cluster_db\")\n",
    "\n",
    "    fig.update_layout(title=\"States \"+str(season)+ \" o/p\") \n",
    "\n",
    "    fig.show()"
   ]
  },
  {
   "cell_type": "code",
   "execution_count": null,
   "metadata": {},
   "outputs": [],
   "source": [
    "def normalize_data(data):\n",
    "    mu = np.mean(data, 0)\n",
    "    sigma = np.std(data, 0)\n",
    "    data_norm = (data-mu)/sigma\n",
    "    return data_norm, mu, sigma"
   ]
  },
  {
   "cell_type": "markdown",
   "metadata": {},
   "source": [
    "# Kharif Season"
   ]
  },
  {
   "cell_type": "code",
   "execution_count": null,
   "metadata": {},
   "outputs": [],
   "source": [
    "df_2014_kharif = df_2014[df_2014[\"Season\"] == \"Kharif     \"]\n",
    "df_2014_kharif.head()"
   ]
  },
  {
   "cell_type": "code",
   "execution_count": null,
   "metadata": {},
   "outputs": [],
   "source": [
    "df_2014_kharif = df_2014_kharif.drop([\"District_Name\", \"Crop_Year\", \"Season\", \"Crop\"], axis=1) \n",
    "df_2014_kharif"
   ]
  },
  {
   "cell_type": "code",
   "execution_count": null,
   "metadata": {},
   "outputs": [],
   "source": [
    "dfa_kharif, df_kharif = make_dfa(df_2014_kharif)\n",
    "dfa_kharif"
   ]
  },
  {
   "cell_type": "code",
   "execution_count": null,
   "metadata": {},
   "outputs": [],
   "source": [
    "m = dfa_kharif.shape[0]\n",
    "n = dfa_kharif.shape[1]"
   ]
  },
  {
   "cell_type": "code",
   "execution_count": null,
   "metadata": {},
   "outputs": [],
   "source": [
    "k_scores ={}\n",
    "make_elbow_graph(dfa_kharif)\n",
    "sns.lineplot(x=list(k_scores.keys()), y=list(k_scores.values()))"
   ]
  },
  {
   "cell_type": "code",
   "execution_count": null,
   "metadata": {},
   "outputs": [],
   "source": [
    "output = plot_graph(2, dfa_kharif)"
   ]
  },
  {
   "cell_type": "code",
   "execution_count": null,
   "metadata": {},
   "outputs": [],
   "source": [
    "cluster_1 = []\n",
    "cluster_2 = []\n",
    "clusters = make_clusters_k(2, output, dfa_kharif, df_kharif)\n",
    "clusters"
   ]
  },
  {
   "cell_type": "code",
   "execution_count": null,
   "metadata": {},
   "outputs": [],
   "source": [
    "make_map(clusters, \"Kharif\")"
   ]
  },
  {
   "cell_type": "code",
   "execution_count": null,
   "metadata": {},
   "outputs": [],
   "source": [
    "cluster_labels = dbscan(dfa_kharif, 3, 0.15)\n",
    "cluster_labels"
   ]
  },
  {
   "cell_type": "code",
   "execution_count": null,
   "metadata": {},
   "outputs": [],
   "source": [
    "clusters_db = {1: [], 2: []}\n",
    "for i in range(len(cluster_labels)):\n",
    "    x = cluster_labels[i]\n",
    "    clusters_db[x].append(df_kharif.iloc[i][\"State_Name\"])\n",
    "clusters_db"
   ]
  },
  {
   "cell_type": "code",
   "execution_count": null,
   "metadata": {},
   "outputs": [],
   "source": [
    "make_map(clusters_db, \"Kharif\")"
   ]
  },
  {
   "cell_type": "markdown",
   "metadata": {},
   "source": [
    "The results given by both K means and DBSCAN are the same, so we can proceed with either result"
   ]
  },
  {
   "cell_type": "markdown",
   "metadata": {},
   "source": [
    "# Rabi Season"
   ]
  },
  {
   "cell_type": "code",
   "execution_count": null,
   "metadata": {},
   "outputs": [],
   "source": [
    "df_2014_rabi = df_2014[df_2014[\"Season\"] == \"Rabi       \"]\n",
    "df_2014_rabi.head()"
   ]
  },
  {
   "cell_type": "code",
   "execution_count": null,
   "metadata": {},
   "outputs": [],
   "source": [
    "df_2014_rabi = df_2014_rabi.drop([\"District_Name\", \"Crop_Year\", \"Season\", \"Crop\"], axis=1) \n",
    "df_2014_rabi"
   ]
  },
  {
   "cell_type": "code",
   "execution_count": null,
   "metadata": {},
   "outputs": [],
   "source": [
    "dfa_rabi, df_rabi = make_dfa(df_2014_rabi)\n",
    "dfa_rabi"
   ]
  },
  {
   "cell_type": "code",
   "execution_count": null,
   "metadata": {},
   "outputs": [],
   "source": [
    "m = dfa_rabi.shape[0]\n",
    "n = dfa_rabi.shape[1]"
   ]
  },
  {
   "cell_type": "code",
   "execution_count": null,
   "metadata": {},
   "outputs": [],
   "source": [
    "k_scores ={}\n",
    "make_elbow_graph(dfa_rabi)\n",
    "sns.lineplot(x=list(k_scores.keys()), y=list(k_scores.values()))"
   ]
  },
  {
   "cell_type": "code",
   "execution_count": null,
   "metadata": {},
   "outputs": [],
   "source": [
    "output = plot_graph(2, dfa_rabi)"
   ]
  },
  {
   "cell_type": "code",
   "execution_count": null,
   "metadata": {},
   "outputs": [],
   "source": [
    "cluster_1 = []\n",
    "cluster_2 = []\n",
    "clusters = make_clusters_k(2, output, dfa_rabi, df_rabi)\n",
    "clusters"
   ]
  },
  {
   "cell_type": "code",
   "execution_count": null,
   "metadata": {},
   "outputs": [],
   "source": [
    "make_map(clusters, \"Rabi\")"
   ]
  },
  {
   "cell_type": "code",
   "execution_count": null,
   "metadata": {},
   "outputs": [],
   "source": [
    "cluster_labels = dbscan(dfa_rabi, 3, 0.15)\n",
    "cluster_labels"
   ]
  },
  {
   "cell_type": "code",
   "execution_count": null,
   "metadata": {},
   "outputs": [],
   "source": [
    "clusters_db = {1: [], 2: []}\n",
    "for i in range(len(cluster_labels)):\n",
    "    x = cluster_labels[i]\n",
    "    clusters_db[x].append(df_rabi.iloc[i][\"State_Name\"])\n",
    "clusters_db"
   ]
  },
  {
   "cell_type": "code",
   "execution_count": null,
   "metadata": {},
   "outputs": [],
   "source": [
    "make_map(clusters_db, \"Rabi\")"
   ]
  },
  {
   "cell_type": "markdown",
   "metadata": {},
   "source": [
    "Even here, we get the same result from both K means and DBSCAN"
   ]
  },
  {
   "cell_type": "markdown",
   "metadata": {},
   "source": [
    "# Autumn Season"
   ]
  },
  {
   "cell_type": "code",
   "execution_count": null,
   "metadata": {},
   "outputs": [],
   "source": [
    "df_2014_aut = df_2014[df_2014[\"Season\"] == \"Autumn     \"]\n",
    "df_2014_aut.head()"
   ]
  },
  {
   "cell_type": "code",
   "execution_count": null,
   "metadata": {},
   "outputs": [],
   "source": [
    "df_2014_aut = df_2014_aut.drop([\"District_Name\", \"Crop_Year\", \"Season\", \"Crop\"], axis=1) \n",
    "df_2014_aut"
   ]
  },
  {
   "cell_type": "code",
   "execution_count": null,
   "metadata": {},
   "outputs": [],
   "source": [
    "dfa_aut, df_aut = make_dfa(df_2014_aut)\n",
    "df_aut"
   ]
  },
  {
   "cell_type": "code",
   "execution_count": null,
   "metadata": {},
   "outputs": [],
   "source": [
    "m = dfa_aut.shape[0]\n",
    "n = dfa_aut.shape[1]"
   ]
  },
  {
   "cell_type": "code",
   "execution_count": null,
   "metadata": {},
   "outputs": [],
   "source": [
    "k_scores ={}\n",
    "make_elbow_graph(dfa_aut)\n",
    "sns.lineplot(x=list(k_scores.keys()), y=list(k_scores.values()))"
   ]
  },
  {
   "cell_type": "code",
   "execution_count": null,
   "metadata": {},
   "outputs": [],
   "source": [
    "output = plot_graph(2, dfa_aut)"
   ]
  },
  {
   "cell_type": "code",
   "execution_count": null,
   "metadata": {},
   "outputs": [],
   "source": [
    "cluster_1 = []\n",
    "cluster_2 = []\n",
    "clusters = make_clusters_k(2, output, dfa_aut, df_aut)\n",
    "clusters"
   ]
  },
  {
   "cell_type": "code",
   "execution_count": null,
   "metadata": {},
   "outputs": [],
   "source": [
    "make_map(clusters, \"Autumn\")"
   ]
  },
  {
   "cell_type": "code",
   "execution_count": null,
   "metadata": {},
   "outputs": [],
   "source": [
    "cluster_labels = dbscan(dfa_aut, 1, 0.08)\n",
    "cluster_labels"
   ]
  },
  {
   "cell_type": "code",
   "execution_count": null,
   "metadata": {},
   "outputs": [],
   "source": [
    "clusters_db = {1: [], 2: []}\n",
    "for i in range(len(cluster_labels)):\n",
    "    x = cluster_labels[i]\n",
    "    clusters_db[x].append(df_aut.iloc[i][\"State_Name\"])\n",
    "clusters_db"
   ]
  },
  {
   "cell_type": "code",
   "execution_count": null,
   "metadata": {},
   "outputs": [],
   "source": [
    "make_map(clusters_db, \"Autumn\")"
   ]
  },
  {
   "cell_type": "markdown",
   "metadata": {},
   "source": [
    "Even here, we get the same result from both K means and DBSCAN"
   ]
  },
  {
   "cell_type": "markdown",
   "metadata": {},
   "source": [
    "# Summer Season"
   ]
  },
  {
   "cell_type": "code",
   "execution_count": null,
   "metadata": {},
   "outputs": [],
   "source": [
    "df_2014_sum = df_2014[df_2014[\"Season\"] == \"Summer     \"]\n",
    "df_2014_sum.head()"
   ]
  },
  {
   "cell_type": "code",
   "execution_count": null,
   "metadata": {},
   "outputs": [],
   "source": [
    "df_2014_sum = df_2014_sum.drop([\"District_Name\", \"Crop_Year\", \"Season\", \"Crop\"], axis=1) \n",
    "df_2014_sum"
   ]
  },
  {
   "cell_type": "code",
   "execution_count": null,
   "metadata": {},
   "outputs": [],
   "source": [
    "dfa_sum, df_sum = make_dfa(df_2014_sum)\n",
    "dfa_sum"
   ]
  },
  {
   "cell_type": "code",
   "execution_count": null,
   "metadata": {},
   "outputs": [],
   "source": [
    "m = dfa_sum.shape[0]\n",
    "n = dfa_sum.shape[1]"
   ]
  },
  {
   "cell_type": "code",
   "execution_count": null,
   "metadata": {},
   "outputs": [],
   "source": [
    "k_scores ={}\n",
    "make_elbow_graph(dfa_sum)\n",
    "sns.lineplot(x=list(k_scores.keys()), y=list(k_scores.values()))"
   ]
  },
  {
   "cell_type": "code",
   "execution_count": null,
   "metadata": {},
   "outputs": [],
   "source": [
    "output = plot_graph(2, dfa_sum)"
   ]
  },
  {
   "cell_type": "code",
   "execution_count": null,
   "metadata": {},
   "outputs": [],
   "source": [
    "cluster_1 = []\n",
    "cluster_2 = []\n",
    "clusters = make_clusters_k(2, output, dfa_sum, df_sum)\n",
    "clusters"
   ]
  },
  {
   "cell_type": "code",
   "execution_count": null,
   "metadata": {},
   "outputs": [],
   "source": [
    "make_map(clusters, \"Summer\")"
   ]
  },
  {
   "cell_type": "code",
   "execution_count": null,
   "metadata": {},
   "outputs": [],
   "source": [
    "cluster_labels = dbscan(dfa_sum, 1, 0.1)\n",
    "cluster_labels"
   ]
  },
  {
   "cell_type": "code",
   "execution_count": null,
   "metadata": {},
   "outputs": [],
   "source": [
    "clusters_db = {1: [], 2: []}\n",
    "for i in range(len(cluster_labels)):\n",
    "    x = cluster_labels[i]\n",
    "    clusters_db[x].append(df_sum.iloc[i][\"State_Name\"])\n",
    "clusters_db"
   ]
  },
  {
   "cell_type": "code",
   "execution_count": null,
   "metadata": {},
   "outputs": [],
   "source": [
    "make_map(clusters_db, \"Summer\")"
   ]
  },
  {
   "cell_type": "markdown",
   "metadata": {},
   "source": [
    "K means and DBSCAN give same result"
   ]
  },
  {
   "cell_type": "markdown",
   "metadata": {},
   "source": [
    "# Winter Season"
   ]
  },
  {
   "cell_type": "code",
   "execution_count": null,
   "metadata": {},
   "outputs": [],
   "source": [
    "df_2014_win = df_2014[df_2014[\"Season\"] == \"Winter     \"]\n",
    "df_2014_win.head()"
   ]
  },
  {
   "cell_type": "code",
   "execution_count": null,
   "metadata": {},
   "outputs": [],
   "source": [
    "df_2014_win = df_2014_win.drop([\"District_Name\", \"Crop_Year\", \"Season\", \"Crop\"], axis=1) \n",
    "df_2014_win"
   ]
  },
  {
   "cell_type": "code",
   "execution_count": null,
   "metadata": {},
   "outputs": [],
   "source": [
    "dfa_win, df_win = make_dfa(df_2014_win)\n",
    "df_win"
   ]
  },
  {
   "cell_type": "code",
   "execution_count": null,
   "metadata": {},
   "outputs": [],
   "source": [
    "m = dfa_win.shape[0]\n",
    "n = dfa_win.shape[1]"
   ]
  },
  {
   "cell_type": "code",
   "execution_count": null,
   "metadata": {},
   "outputs": [],
   "source": [
    "k_scores ={}\n",
    "make_elbow_graph(dfa_win)\n",
    "sns.lineplot(x=list(k_scores.keys()), y=list(k_scores.values()))"
   ]
  },
  {
   "cell_type": "code",
   "execution_count": null,
   "metadata": {},
   "outputs": [],
   "source": [
    "output = plot_graph(2, dfa_win)"
   ]
  },
  {
   "cell_type": "code",
   "execution_count": null,
   "metadata": {},
   "outputs": [],
   "source": [
    "cluster_1 = []\n",
    "cluster_2 = []\n",
    "clusters = make_clusters_k(2, output, dfa_win, df_win)\n",
    "clusters"
   ]
  },
  {
   "cell_type": "code",
   "execution_count": null,
   "metadata": {},
   "outputs": [],
   "source": [
    "make_map(clusters, \"Winter\")"
   ]
  },
  {
   "cell_type": "code",
   "execution_count": null,
   "metadata": {},
   "outputs": [],
   "source": [
    "cluster_labels = dbscan(dfa_win, 1, 0.08)\n",
    "cluster_labels"
   ]
  },
  {
   "cell_type": "code",
   "execution_count": null,
   "metadata": {},
   "outputs": [],
   "source": [
    "clusters_db = {1: [], 2: []}\n",
    "for i in range(len(cluster_labels)):\n",
    "    x = cluster_labels[i]\n",
    "    clusters_db[x].append(df_win.iloc[i][\"State_Name\"])\n",
    "clusters_db"
   ]
  },
  {
   "cell_type": "code",
   "execution_count": null,
   "metadata": {},
   "outputs": [],
   "source": [
    "make_map(clusters_db, \"Winter\")"
   ]
  },
  {
   "cell_type": "markdown",
   "metadata": {},
   "source": [
    "Here DBSCAN appears to do a better job, so we'll choose that over the output of K means"
   ]
  },
  {
   "cell_type": "markdown",
   "metadata": {},
   "source": [
    "# Whole Year"
   ]
  },
  {
   "cell_type": "code",
   "execution_count": null,
   "metadata": {},
   "outputs": [],
   "source": [
    "df_2014_year = df_2014[df_2014[\"Season\"] == \"Whole Year \"]\n",
    "df_2014_year.head()"
   ]
  },
  {
   "cell_type": "code",
   "execution_count": null,
   "metadata": {},
   "outputs": [],
   "source": [
    "df_2014_year = df_2014_year.drop([\"District_Name\", \"Crop_Year\", \"Season\", \"Crop\"], axis=1) \n",
    "df_2014_year"
   ]
  },
  {
   "cell_type": "code",
   "execution_count": null,
   "metadata": {},
   "outputs": [],
   "source": [
    "dfa_year, df_year = make_dfa(df_2014_year)\n",
    "df_year"
   ]
  },
  {
   "cell_type": "code",
   "execution_count": null,
   "metadata": {},
   "outputs": [],
   "source": [
    "m = dfa_year.shape[0]\n",
    "n = dfa_year.shape[1]"
   ]
  },
  {
   "cell_type": "code",
   "execution_count": null,
   "metadata": {},
   "outputs": [],
   "source": [
    "k_scores ={}\n",
    "make_elbow_graph(dfa_year)\n",
    "sns.lineplot(x=list(k_scores.keys()), y=list(k_scores.values()))"
   ]
  },
  {
   "cell_type": "code",
   "execution_count": null,
   "metadata": {},
   "outputs": [],
   "source": [
    "output = plot_graph(2, dfa_year)"
   ]
  },
  {
   "cell_type": "code",
   "execution_count": null,
   "metadata": {},
   "outputs": [],
   "source": [
    "cluster_1 = []\n",
    "cluster_2 = []\n",
    "clusters = make_clusters_k(2, output, dfa_year, df_year)\n",
    "clusters"
   ]
  },
  {
   "cell_type": "code",
   "execution_count": null,
   "metadata": {},
   "outputs": [],
   "source": [
    "make_map(clusters, \"Whole Year\")"
   ]
  },
  {
   "cell_type": "code",
   "execution_count": null,
   "metadata": {},
   "outputs": [],
   "source": [
    "cluster_labels = dbscan(dfa_year, 2, 0.06)\n",
    "cluster_labels"
   ]
  },
  {
   "cell_type": "code",
   "execution_count": null,
   "metadata": {},
   "outputs": [],
   "source": [
    "clusters_db = {1: [], 2: []}\n",
    "for i in range(len(cluster_labels)):\n",
    "    x = cluster_labels[i]\n",
    "    clusters_db[x].append(df_year.iloc[i][\"State_Name\"])\n",
    "clusters_db"
   ]
  },
  {
   "cell_type": "code",
   "execution_count": null,
   "metadata": {},
   "outputs": [],
   "source": [
    "make_map(clusters_db, \"Whole Year\")"
   ]
  },
  {
   "cell_type": "markdown",
   "metadata": {},
   "source": [
    "Same output from K means and DBSCAN"
   ]
  },
  {
   "cell_type": "code",
   "execution_count": null,
   "metadata": {},
   "outputs": [],
   "source": []
  }
 ],
 "metadata": {
  "kernelspec": {
   "display_name": "Python 3",
   "language": "python",
   "name": "python3"
  },
  "language_info": {
   "codemirror_mode": {
    "name": "ipython",
    "version": 3
   },
   "file_extension": ".py",
   "mimetype": "text/x-python",
   "name": "python",
   "nbconvert_exporter": "python",
   "pygments_lexer": "ipython3",
   "version": "3.7.3"
  }
 },
 "nbformat": 4,
 "nbformat_minor": 2
}

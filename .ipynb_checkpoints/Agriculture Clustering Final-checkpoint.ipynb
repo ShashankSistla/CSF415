{
 "cells": [
  {
   "cell_type": "code",
   "execution_count": 4,
   "metadata": {},
   "outputs": [
    {
     "name": "stdout",
     "output_type": "stream",
     "text": [
      "Collecting plotly\n",
      "  Downloading https://files.pythonhosted.org/packages/15/90/918bccb0ca60dc6d126d921e2c67126d75949f5da777e6b18c51fb12603d/plotly-4.6.0-py2.py3-none-any.whl (7.1MB)\n",
      "Collecting retrying>=1.3.3 (from plotly)\n",
      "  Downloading https://files.pythonhosted.org/packages/44/ef/beae4b4ef80902f22e3af073397f079c96969c69b2c7d52a57ea9ae61c9d/retrying-1.3.3.tar.gz\n",
      "Requirement already satisfied: six in c:\\users\\shashank\\anaconda3\\lib\\site-packages (from plotly) (1.12.0)\n",
      "Building wheels for collected packages: retrying\n",
      "  Building wheel for retrying (setup.py): started\n",
      "  Building wheel for retrying (setup.py): finished with status 'done'\n",
      "  Stored in directory: C:\\Users\\Shashank\\AppData\\Local\\pip\\Cache\\wheels\\d7\\a9\\33\\acc7b709e2a35caa7d4cae442f6fe6fbf2c43f80823d46460c\n",
      "Successfully built retrying\n",
      "Installing collected packages: retrying, plotly\n",
      "Successfully installed plotly-4.6.0 retrying-1.3.3\n",
      "Note: you may need to restart the kernel to use updated packages.\n"
     ]
    }
   ],
   "source": [
    "pip install plotly\n"
   ]
  },
  {
   "cell_type": "code",
   "execution_count": 1,
   "metadata": {},
   "outputs": [
    {
     "ename": "ModuleNotFoundError",
     "evalue": "No module named 'plotly'",
     "output_type": "error",
     "traceback": [
      "\u001b[1;31m---------------------------------------------------------------------------\u001b[0m",
      "\u001b[1;31mModuleNotFoundError\u001b[0m                       Traceback (most recent call last)",
      "\u001b[1;32m<ipython-input-1-70ab2ca47652>\u001b[0m in \u001b[0;36m<module>\u001b[1;34m\u001b[0m\n\u001b[0;32m      3\u001b[0m \u001b[1;32mimport\u001b[0m \u001b[0mmatplotlib\u001b[0m\u001b[1;33m.\u001b[0m\u001b[0mpyplot\u001b[0m \u001b[1;32mas\u001b[0m \u001b[0mplt\u001b[0m\u001b[1;33m\u001b[0m\u001b[1;33m\u001b[0m\u001b[0m\n\u001b[0;32m      4\u001b[0m \u001b[1;32mimport\u001b[0m \u001b[0mseaborn\u001b[0m \u001b[1;32mas\u001b[0m \u001b[0msns\u001b[0m\u001b[1;33m\u001b[0m\u001b[1;33m\u001b[0m\u001b[0m\n\u001b[1;32m----> 5\u001b[1;33m \u001b[1;32mimport\u001b[0m \u001b[0mplotly\u001b[0m\u001b[1;33m\u001b[0m\u001b[1;33m\u001b[0m\u001b[0m\n\u001b[0m\u001b[0;32m      6\u001b[0m \u001b[1;32mimport\u001b[0m \u001b[0mplotly\u001b[0m\u001b[1;33m.\u001b[0m\u001b[0mgraph_objs\u001b[0m \u001b[1;32mas\u001b[0m \u001b[0mgo\u001b[0m\u001b[1;33m\u001b[0m\u001b[1;33m\u001b[0m\u001b[0m\n\u001b[0;32m      7\u001b[0m \u001b[1;32mimport\u001b[0m \u001b[0mrandom\u001b[0m \u001b[1;32mas\u001b[0m \u001b[0mrd\u001b[0m\u001b[1;33m\u001b[0m\u001b[1;33m\u001b[0m\u001b[0m\n",
      "\u001b[1;31mModuleNotFoundError\u001b[0m: No module named 'plotly'"
     ]
    }
   ],
   "source": [
    "import pandas as pd\n",
    "import numpy as np\n",
    "import matplotlib.pyplot as plt\n",
    "import seaborn as sns\n",
    "import plotly\n",
    "import plotly.graph_objs as go\n",
    "import random as rd\n",
    "import plotly.express as px"
   ]
  },
  {
   "cell_type": "markdown",
   "metadata": {},
   "source": [
    "Before we get started, we import the dataset to be analysed and learn a bit about it.\n",
    "Since we have the water quality data for the year 2014, we'll focus on the 2014 production here"
   ]
  },
  {
   "cell_type": "code",
   "execution_count": null,
   "metadata": {},
   "outputs": [],
   "source": [
    "df = pd.read_csv(\"apy.csv\")\n",
    "df_2014 = df[df[\"Crop_Year\"] == 2014]\n",
    "df_2014.head()"
   ]
  },
  {
   "cell_type": "code",
   "execution_count": null,
   "metadata": {},
   "outputs": [],
   "source": [
    "df_2014[\"Season\"].unique()"
   ]
  },
  {
   "cell_type": "markdown",
   "metadata": {},
   "source": [
    "We'll cluster separately based on the seasons above"
   ]
  },
  {
   "cell_type": "markdown",
   "metadata": {},
   "source": [
    "First, let's define a few helper functions we'll call throughout the notebook"
   ]
  },
  {
   "cell_type": "markdown",
   "metadata": {},
   "source": [
    "## K Means Clustering"
   ]
  },
  {
   "cell_type": "code",
   "execution_count": null,
   "metadata": {},
   "outputs": [],
   "source": [
    "def k_means(k, dfa, n_iter):\n",
    "    centroids = np.array([]).reshape(n, 0)\n",
    "    for i in range(k):\n",
    "        rand = rd.randint(0, m-1)\n",
    "        centroids = np.c_[centroids, dfa[rand]]\n",
    "        \n",
    "    for i in range(n_iter):\n",
    "        dist_mat = np.array([]).reshape(m, 0)\n",
    "        for i in range(k):\n",
    "            tempDist = np.sum((dfa-centroids[:, i])**2, axis=1)\n",
    "            dist_mat = np.c_[dist_mat, tempDist]\n",
    "\n",
    "        C = np.argmin(dist_mat, axis=1)+1\n",
    "\n",
    "        Y={}\n",
    "        for i in range(k):\n",
    "            Y[i+1]=np.array([]).reshape(n,0)\n",
    "        for i in range(m):\n",
    "            Y[C[i]]=np.c_[Y[C[i]],dfa[i]]\n",
    "\n",
    "        for i in range(k):\n",
    "            Y[i+1]=Y[i+1].T\n",
    "\n",
    "        for i in range(k):\n",
    "            centroids[:,i]=np.mean(Y[i+1],axis=0)\n",
    "        Output=Y\n",
    "        \n",
    "    return Output, centroids"
   ]
  },
  {
   "cell_type": "code",
   "execution_count": null,
   "metadata": {},
   "outputs": [],
   "source": [
    "def calc_wss(k, output, centroids):\n",
    "    for i in range(k):\n",
    "        c = i+1\n",
    "        sum = 0\n",
    "        sum += cost(c, centroids, output)\n",
    "        \n",
    "    return sum\n",
    "\n",
    "def cost(n, centroids, output):\n",
    "    center = centroids.T[n-1]\n",
    "    dist = 0\n",
    "    for i in range(output[n].shape[0]):\n",
    "        dist += np.linalg.norm(center - output[n][i])\n",
    "    return dist"
   ]
  },
  {
   "cell_type": "code",
   "execution_count": null,
   "metadata": {},
   "outputs": [],
   "source": [
    "def make_elbow_graph(dfa):\n",
    "    for k in range(1, 5):\n",
    "        output, centroids = k_means(k, dfa, 300)\n",
    "        sum = calc_wss(k, output, centroids)\n",
    "        k_scores[k] = sum"
   ]
  },
  {
   "cell_type": "markdown",
   "metadata": {},
   "source": [
    "## DBSCAN"
   ]
  },
  {
   "cell_type": "code",
   "execution_count": null,
   "metadata": {},
   "outputs": [],
   "source": [
    "def dbscan(D, eps, MinPts):\n",
    "    labels = [0]*len(D)\n",
    "    C = 0\n",
    "    \n",
    "    for P in range(len(D)):\n",
    "        if labels[P] != 0:\n",
    "            continue\n",
    "            \n",
    "        NeighbourPts = regionQuery(D, P, eps)\n",
    "        if len(NeighbourPts) < MinPts:\n",
    "            labels[P] = -1\n",
    "        else:\n",
    "            C += 1\n",
    "            growCluster(D, labels, P, NeighbourPts, C, eps, MinPts)\n",
    "    \n",
    "    return labels"
   ]
  },
  {
   "cell_type": "code",
   "execution_count": null,
   "metadata": {},
   "outputs": [],
   "source": [
    "def growCluster(D, labels, P, NeighbourPts, C, eps, MinPts):\n",
    "    labels[P] = C\n",
    "    i = 0\n",
    "    while i < len(NeighbourPts):\n",
    "        Pn = NeighbourPts[i]\n",
    "        if labels[Pn] == -1:\n",
    "            labels[Pn] = C\n",
    "        elif labels[Pn] == 0:\n",
    "            labels[Pn] = C\n",
    "            PnNeighbours = regionQuery(D, Pn, eps)\n",
    "            \n",
    "            if len(PnNeighbours) >= MinPts:\n",
    "                NeighbourPts += PnNeighbours\n",
    "                \n",
    "        i += 1"
   ]
  },
  {
   "cell_type": "code",
   "execution_count": null,
   "metadata": {},
   "outputs": [],
   "source": [
    "def regionQuery(D, P, eps):\n",
    "    neighbours = []\n",
    "    \n",
    "    for Pn in range(len(D)):\n",
    "        if np.linalg.norm(D[P] - D[Pn]) < eps:\n",
    "            neighbours.append(Pn)\n",
    "            \n",
    "    return neighbours"
   ]
  },
  {
   "cell_type": "markdown",
   "metadata": {},
   "source": [
    "## Other functions"
   ]
  },
  {
   "cell_type": "code",
   "execution_count": null,
   "metadata": {},
   "outputs": [],
   "source": [
    "def make_dfa(df):\n",
    "    df_1 = df.groupby('State_Name', as_index=False).sum()\n",
    "    df_1[\"Prod/Area\"] = df_1[\"Production\"]/df_1[\"Area\"]\n",
    "    dfa = df_1.drop([\"State_Name\", \"Area\", \"Production\"], axis=1)\n",
    "    dfa = np.array(dfa)\n",
    "    dfa, mu, sigma = normalize_data(dfa)\n",
    "    return dfa, df_1"
   ]
  },
  {
   "cell_type": "code",
   "execution_count": null,
   "metadata": {},
   "outputs": [],
   "source": [
    "def plot_graph(k, dfa):\n",
    "    output, centroids = k_means(k, dfa, 300)\n",
    "    color=['red','blue', 'green' 'yellow']\n",
    "    labels=['cluster1','cluster2', 'cluster3']\n",
    "    for i in range(k):\n",
    "        plt.plot(output[i+1][:,0],\"*\", c=color[i],label=labels[i])\n",
    "    plt.xlabel('0')\n",
    "    plt.legend()\n",
    "    plt.show()\n",
    "    return output"
   ]
  },
  {
   "cell_type": "code",
   "execution_count": null,
   "metadata": {},
   "outputs": [],
   "source": [
    "def make_clusters_k(k, output, dfa, df):\n",
    "    for i in range(k):\n",
    "        for j in range(output[i+1].shape[0]):\n",
    "            a = output[i+1][j]\n",
    "            for z in range(m):\n",
    "                b = np.array(dfa[z])\n",
    "                if(np.sum(a-b) == 0.0):\n",
    "                    if i == 0:\n",
    "                        cluster_1.append(z)\n",
    "                    elif i == 1:\n",
    "                        cluster_2.append(z)\n",
    "                    \n",
    "    clusters = {1:[], 2:[]}\n",
    "    for i in range(len(cluster_1)):\n",
    "        clusters[1].append(df.iloc[cluster_1[i]][\"State_Name\"])\n",
    "    for i in range(len(cluster_2)):\n",
    "        clusters[2].append(df.iloc[cluster_2[i]][\"State_Name\"])\n",
    "        \n",
    "    return clusters"
   ]
  },
  {
   "cell_type": "code",
   "execution_count": null,
   "metadata": {},
   "outputs": [],
   "source": [
    "def make_clusters_k3(k, output, dfa, df):\n",
    "    for i in range(k):\n",
    "        for j in range(output[i+1].shape[0]):\n",
    "            a = output[i+1][j]\n",
    "            for z in range(m):\n",
    "                b = np.array(dfa[z])\n",
    "                if(np.sum(a-b) == 0.0):\n",
    "                    if i == 0:\n",
    "                        cluster_1.append(z)\n",
    "                    elif i == 1:\n",
    "                        cluster_2.append(z)\n",
    "                    elif i == 2:\n",
    "                        cluster_3.append(z)\n",
    "                    \n",
    "    clusters = {1:[], 2:[]}\n",
    "    for i in range(len(cluster_1)):\n",
    "        clusters[1].append(df.iloc[cluster_1[i]][\"State_Name\"])\n",
    "    for i in range(len(cluster_2)):\n",
    "        clusters[2].append(df.iloc[cluster_2[i]][\"State_Name\"])\n",
    "    for i in range(len(cluster_3)):\n",
    "        clusters[3].append(df.iloc[cluster_3[i]][\"State_Name\"])\n",
    "        \n",
    "    return clusters"
   ]
  },
  {
   "cell_type": "code",
   "execution_count": null,
   "metadata": {},
   "outputs": [],
   "source": [
    "def make_map(clusters, season):\n",
    "    df_loc = pd.read_csv(\"states.csv\")\n",
    "\n",
    "    for i in range(df_loc.shape[0]):\n",
    "        state = df_loc.iloc[i][\"State\"].lower()\n",
    "        for j in range(1, len(clusters)+1):\n",
    "            for c in range(len(clusters[j])):\n",
    "                temp = clusters[j][c].lower()\n",
    "                if state == temp:\n",
    "                    df_loc.set_value(i, \"Cluster_db\", j)\n",
    "                    #print(\"match\")\n",
    "\n",
    "    df_loc = df_loc.dropna()\n",
    "    fig = px.scatter_geo(df_loc,\n",
    "                       lat=\"Latitude\",\n",
    "                       lon=\"Longitude\",\n",
    "                       color=\"Cluster_db\")\n",
    "\n",
    "    fig.update_layout(title=\"States \"+str(season)+ \" o/p\") \n",
    "\n",
    "    fig.show()"
   ]
  },
  {
   "cell_type": "code",
   "execution_count": null,
   "metadata": {},
   "outputs": [],
   "source": [
    "def normalize_data(data):\n",
    "    mu = np.mean(data, 0)\n",
    "    sigma = np.std(data, 0)\n",
    "    data_norm = (data-mu)/sigma\n",
    "    return data_norm, mu, sigma"
   ]
  },
  {
   "cell_type": "markdown",
   "metadata": {},
   "source": [
    "# Kharif Season"
   ]
  },
  {
   "cell_type": "code",
   "execution_count": null,
   "metadata": {},
   "outputs": [],
   "source": [
    "df_2014_kharif = df_2014[df_2014[\"Season\"] == \"Kharif     \"]\n",
    "df_2014_kharif.head()"
   ]
  },
  {
   "cell_type": "code",
   "execution_count": null,
   "metadata": {},
   "outputs": [],
   "source": [
    "df_2014_kharif = df_2014_kharif.drop([\"District_Name\", \"Crop_Year\", \"Season\", \"Crop\"], axis=1) \n",
    "df_2014_kharif"
   ]
  },
  {
   "cell_type": "code",
   "execution_count": null,
   "metadata": {},
   "outputs": [],
   "source": [
    "dfa_kharif, df_kharif = make_dfa(df_2014_kharif)\n",
    "dfa_kharif"
   ]
  },
  {
   "cell_type": "code",
   "execution_count": null,
   "metadata": {},
   "outputs": [],
   "source": [
    "m = dfa_kharif.shape[0]\n",
    "n = dfa_kharif.shape[1]"
   ]
  },
  {
   "cell_type": "code",
   "execution_count": null,
   "metadata": {},
   "outputs": [],
   "source": [
    "k_scores ={}\n",
    "make_elbow_graph(dfa_kharif)\n",
    "sns.lineplot(x=list(k_scores.keys()), y=list(k_scores.values()))"
   ]
  },
  {
   "cell_type": "code",
   "execution_count": null,
   "metadata": {},
   "outputs": [],
   "source": [
    "output = plot_graph(2, dfa_kharif)"
   ]
  },
  {
   "cell_type": "code",
   "execution_count": null,
   "metadata": {},
   "outputs": [],
   "source": [
    "cluster_1 = []\n",
    "cluster_2 = []\n",
    "clusters = make_clusters_k(2, output, dfa_kharif, df_kharif)\n",
    "clusters"
   ]
  },
  {
   "cell_type": "code",
   "execution_count": null,
   "metadata": {},
   "outputs": [],
   "source": [
    "make_map(clusters, \"Kharif\")"
   ]
  },
  {
   "cell_type": "code",
   "execution_count": null,
   "metadata": {},
   "outputs": [],
   "source": [
    "cluster_labels = dbscan(dfa_kharif, 3, 0.15)\n",
    "cluster_labels"
   ]
  },
  {
   "cell_type": "code",
   "execution_count": null,
   "metadata": {},
   "outputs": [],
   "source": [
    "clusters_db = {1: [], 2: []}\n",
    "for i in range(len(cluster_labels)):\n",
    "    x = cluster_labels[i]\n",
    "    clusters_db[x].append(df_kharif.iloc[i][\"State_Name\"])\n",
    "clusters_db"
   ]
  },
  {
   "cell_type": "code",
   "execution_count": null,
   "metadata": {},
   "outputs": [],
   "source": [
    "make_map(clusters_db, \"Kharif\")"
   ]
  },
  {
   "cell_type": "markdown",
   "metadata": {},
   "source": [
    "The results given by both K means and DBSCAN are the same, so we can proceed with either result"
   ]
  },
  {
   "cell_type": "markdown",
   "metadata": {},
   "source": [
    "# Rabi Season"
   ]
  },
  {
   "cell_type": "code",
   "execution_count": null,
   "metadata": {},
   "outputs": [],
   "source": [
    "df_2014_rabi = df_2014[df_2014[\"Season\"] == \"Rabi       \"]\n",
    "df_2014_rabi.head()"
   ]
  },
  {
   "cell_type": "code",
   "execution_count": null,
   "metadata": {},
   "outputs": [],
   "source": [
    "df_2014_rabi = df_2014_rabi.drop([\"District_Name\", \"Crop_Year\", \"Season\", \"Crop\"], axis=1) \n",
    "df_2014_rabi"
   ]
  },
  {
   "cell_type": "code",
   "execution_count": null,
   "metadata": {},
   "outputs": [],
   "source": [
    "dfa_rabi, df_rabi = make_dfa(df_2014_rabi)\n",
    "dfa_rabi"
   ]
  },
  {
   "cell_type": "code",
   "execution_count": null,
   "metadata": {},
   "outputs": [],
   "source": [
    "m = dfa_rabi.shape[0]\n",
    "n = dfa_rabi.shape[1]"
   ]
  },
  {
   "cell_type": "code",
   "execution_count": null,
   "metadata": {},
   "outputs": [],
   "source": [
    "k_scores ={}\n",
    "make_elbow_graph(dfa_rabi)\n",
    "sns.lineplot(x=list(k_scores.keys()), y=list(k_scores.values()))"
   ]
  },
  {
   "cell_type": "code",
   "execution_count": null,
   "metadata": {},
   "outputs": [],
   "source": [
    "output = plot_graph(2, dfa_rabi)"
   ]
  },
  {
   "cell_type": "code",
   "execution_count": null,
   "metadata": {},
   "outputs": [],
   "source": [
    "cluster_1 = []\n",
    "cluster_2 = []\n",
    "clusters = make_clusters_k(2, output, dfa_rabi, df_rabi)\n",
    "clusters"
   ]
  },
  {
   "cell_type": "code",
   "execution_count": null,
   "metadata": {},
   "outputs": [],
   "source": [
    "make_map(clusters, \"Rabi\")"
   ]
  },
  {
   "cell_type": "code",
   "execution_count": null,
   "metadata": {},
   "outputs": [],
   "source": [
    "cluster_labels = dbscan(dfa_rabi, 3, 0.15)\n",
    "cluster_labels"
   ]
  },
  {
   "cell_type": "code",
   "execution_count": null,
   "metadata": {},
   "outputs": [],
   "source": [
    "clusters_db = {1: [], 2: []}\n",
    "for i in range(len(cluster_labels)):\n",
    "    x = cluster_labels[i]\n",
    "    clusters_db[x].append(df_rabi.iloc[i][\"State_Name\"])\n",
    "clusters_db"
   ]
  },
  {
   "cell_type": "code",
   "execution_count": null,
   "metadata": {},
   "outputs": [],
   "source": [
    "make_map(clusters_db, \"Rabi\")"
   ]
  },
  {
   "cell_type": "markdown",
   "metadata": {},
   "source": [
    "Even here, we get the same result from both K means and DBSCAN"
   ]
  },
  {
   "cell_type": "markdown",
   "metadata": {},
   "source": [
    "# Autumn Season"
   ]
  },
  {
   "cell_type": "code",
   "execution_count": null,
   "metadata": {},
   "outputs": [],
   "source": [
    "df_2014_aut = df_2014[df_2014[\"Season\"] == \"Autumn     \"]\n",
    "df_2014_aut.head()"
   ]
  },
  {
   "cell_type": "code",
   "execution_count": null,
   "metadata": {},
   "outputs": [],
   "source": [
    "df_2014_aut = df_2014_aut.drop([\"District_Name\", \"Crop_Year\", \"Season\", \"Crop\"], axis=1) \n",
    "df_2014_aut"
   ]
  },
  {
   "cell_type": "code",
   "execution_count": null,
   "metadata": {},
   "outputs": [],
   "source": [
    "dfa_aut, df_aut = make_dfa(df_2014_aut)\n",
    "df_aut"
   ]
  },
  {
   "cell_type": "code",
   "execution_count": null,
   "metadata": {},
   "outputs": [],
   "source": [
    "m = dfa_aut.shape[0]\n",
    "n = dfa_aut.shape[1]"
   ]
  },
  {
   "cell_type": "code",
   "execution_count": null,
   "metadata": {},
   "outputs": [],
   "source": [
    "k_scores ={}\n",
    "make_elbow_graph(dfa_aut)\n",
    "sns.lineplot(x=list(k_scores.keys()), y=list(k_scores.values()))"
   ]
  },
  {
   "cell_type": "code",
   "execution_count": null,
   "metadata": {},
   "outputs": [],
   "source": [
    "output = plot_graph(2, dfa_aut)"
   ]
  },
  {
   "cell_type": "code",
   "execution_count": null,
   "metadata": {},
   "outputs": [],
   "source": [
    "cluster_1 = []\n",
    "cluster_2 = []\n",
    "clusters = make_clusters_k(2, output, dfa_aut, df_aut)\n",
    "clusters"
   ]
  },
  {
   "cell_type": "code",
   "execution_count": null,
   "metadata": {},
   "outputs": [],
   "source": [
    "make_map(clusters, \"Autumn\")"
   ]
  },
  {
   "cell_type": "code",
   "execution_count": null,
   "metadata": {},
   "outputs": [],
   "source": [
    "cluster_labels = dbscan(dfa_aut, 1, 0.08)\n",
    "cluster_labels"
   ]
  },
  {
   "cell_type": "code",
   "execution_count": null,
   "metadata": {},
   "outputs": [],
   "source": [
    "clusters_db = {1: [], 2: []}\n",
    "for i in range(len(cluster_labels)):\n",
    "    x = cluster_labels[i]\n",
    "    clusters_db[x].append(df_aut.iloc[i][\"State_Name\"])\n",
    "clusters_db"
   ]
  },
  {
   "cell_type": "code",
   "execution_count": null,
   "metadata": {},
   "outputs": [],
   "source": [
    "make_map(clusters_db, \"Autumn\")"
   ]
  },
  {
   "cell_type": "markdown",
   "metadata": {},
   "source": [
    "Even here, we get the same result from both K means and DBSCAN"
   ]
  },
  {
   "cell_type": "markdown",
   "metadata": {},
   "source": [
    "# Summer Season"
   ]
  },
  {
   "cell_type": "code",
   "execution_count": null,
   "metadata": {},
   "outputs": [],
   "source": [
    "df_2014_sum = df_2014[df_2014[\"Season\"] == \"Summer     \"]\n",
    "df_2014_sum.head()"
   ]
  },
  {
   "cell_type": "code",
   "execution_count": null,
   "metadata": {},
   "outputs": [],
   "source": [
    "df_2014_sum = df_2014_sum.drop([\"District_Name\", \"Crop_Year\", \"Season\", \"Crop\"], axis=1) \n",
    "df_2014_sum"
   ]
  },
  {
   "cell_type": "code",
   "execution_count": null,
   "metadata": {},
   "outputs": [],
   "source": [
    "dfa_sum, df_sum = make_dfa(df_2014_sum)\n",
    "dfa_sum"
   ]
  },
  {
   "cell_type": "code",
   "execution_count": null,
   "metadata": {},
   "outputs": [],
   "source": [
    "m = dfa_sum.shape[0]\n",
    "n = dfa_sum.shape[1]"
   ]
  },
  {
   "cell_type": "code",
   "execution_count": null,
   "metadata": {},
   "outputs": [],
   "source": [
    "k_scores ={}\n",
    "make_elbow_graph(dfa_sum)\n",
    "sns.lineplot(x=list(k_scores.keys()), y=list(k_scores.values()))"
   ]
  },
  {
   "cell_type": "code",
   "execution_count": null,
   "metadata": {},
   "outputs": [],
   "source": [
    "output = plot_graph(2, dfa_sum)"
   ]
  },
  {
   "cell_type": "code",
   "execution_count": null,
   "metadata": {},
   "outputs": [],
   "source": [
    "cluster_1 = []\n",
    "cluster_2 = []\n",
    "clusters = make_clusters_k(2, output, dfa_sum, df_sum)\n",
    "clusters"
   ]
  },
  {
   "cell_type": "code",
   "execution_count": null,
   "metadata": {},
   "outputs": [],
   "source": [
    "make_map(clusters, \"Summer\")"
   ]
  },
  {
   "cell_type": "code",
   "execution_count": null,
   "metadata": {},
   "outputs": [],
   "source": [
    "cluster_labels = dbscan(dfa_sum, 1, 0.1)\n",
    "cluster_labels"
   ]
  },
  {
   "cell_type": "code",
   "execution_count": null,
   "metadata": {},
   "outputs": [],
   "source": [
    "clusters_db = {1: [], 2: []}\n",
    "for i in range(len(cluster_labels)):\n",
    "    x = cluster_labels[i]\n",
    "    clusters_db[x].append(df_sum.iloc[i][\"State_Name\"])\n",
    "clusters_db"
   ]
  },
  {
   "cell_type": "code",
   "execution_count": null,
   "metadata": {},
   "outputs": [],
   "source": [
    "make_map(clusters_db, \"Summer\")"
   ]
  },
  {
   "cell_type": "markdown",
   "metadata": {},
   "source": [
    "K means and DBSCAN give same result"
   ]
  },
  {
   "cell_type": "markdown",
   "metadata": {},
   "source": [
    "# Winter Season"
   ]
  },
  {
   "cell_type": "code",
   "execution_count": null,
   "metadata": {},
   "outputs": [],
   "source": [
    "df_2014_win = df_2014[df_2014[\"Season\"] == \"Winter     \"]\n",
    "df_2014_win.head()"
   ]
  },
  {
   "cell_type": "code",
   "execution_count": null,
   "metadata": {},
   "outputs": [],
   "source": [
    "df_2014_win = df_2014_win.drop([\"District_Name\", \"Crop_Year\", \"Season\", \"Crop\"], axis=1) \n",
    "df_2014_win"
   ]
  },
  {
   "cell_type": "code",
   "execution_count": null,
   "metadata": {},
   "outputs": [],
   "source": [
    "dfa_win, df_win = make_dfa(df_2014_win)\n",
    "df_win"
   ]
  },
  {
   "cell_type": "code",
   "execution_count": null,
   "metadata": {},
   "outputs": [],
   "source": [
    "m = dfa_win.shape[0]\n",
    "n = dfa_win.shape[1]"
   ]
  },
  {
   "cell_type": "code",
   "execution_count": null,
   "metadata": {},
   "outputs": [],
   "source": [
    "k_scores ={}\n",
    "make_elbow_graph(dfa_win)\n",
    "sns.lineplot(x=list(k_scores.keys()), y=list(k_scores.values()))"
   ]
  },
  {
   "cell_type": "code",
   "execution_count": null,
   "metadata": {},
   "outputs": [],
   "source": [
    "output = plot_graph(2, dfa_win)"
   ]
  },
  {
   "cell_type": "code",
   "execution_count": null,
   "metadata": {},
   "outputs": [],
   "source": [
    "cluster_1 = []\n",
    "cluster_2 = []\n",
    "clusters = make_clusters_k(2, output, dfa_win, df_win)\n",
    "clusters"
   ]
  },
  {
   "cell_type": "code",
   "execution_count": null,
   "metadata": {},
   "outputs": [],
   "source": [
    "make_map(clusters, \"Winter\")"
   ]
  },
  {
   "cell_type": "code",
   "execution_count": null,
   "metadata": {},
   "outputs": [],
   "source": [
    "cluster_labels = dbscan(dfa_win, 1, 0.08)\n",
    "cluster_labels"
   ]
  },
  {
   "cell_type": "code",
   "execution_count": null,
   "metadata": {},
   "outputs": [],
   "source": [
    "clusters_db = {1: [], 2: []}\n",
    "for i in range(len(cluster_labels)):\n",
    "    x = cluster_labels[i]\n",
    "    clusters_db[x].append(df_win.iloc[i][\"State_Name\"])\n",
    "clusters_db"
   ]
  },
  {
   "cell_type": "code",
   "execution_count": null,
   "metadata": {},
   "outputs": [],
   "source": [
    "make_map(clusters_db, \"Winter\")"
   ]
  },
  {
   "cell_type": "markdown",
   "metadata": {},
   "source": [
    "Here DBSCAN appears to do a better job, so we'll choose that over the output of K means"
   ]
  },
  {
   "cell_type": "markdown",
   "metadata": {},
   "source": [
    "# Whole Year"
   ]
  },
  {
   "cell_type": "code",
   "execution_count": null,
   "metadata": {},
   "outputs": [],
   "source": [
    "df_2014_year = df_2014[df_2014[\"Season\"] == \"Whole Year \"]\n",
    "df_2014_year.head()"
   ]
  },
  {
   "cell_type": "code",
   "execution_count": null,
   "metadata": {},
   "outputs": [],
   "source": [
    "df_2014_year = df_2014_year.drop([\"District_Name\", \"Crop_Year\", \"Season\", \"Crop\"], axis=1) \n",
    "df_2014_year"
   ]
  },
  {
   "cell_type": "code",
   "execution_count": null,
   "metadata": {},
   "outputs": [],
   "source": [
    "dfa_year, df_year = make_dfa(df_2014_year)\n",
    "df_year"
   ]
  },
  {
   "cell_type": "code",
   "execution_count": null,
   "metadata": {},
   "outputs": [],
   "source": [
    "m = dfa_year.shape[0]\n",
    "n = dfa_year.shape[1]"
   ]
  },
  {
   "cell_type": "code",
   "execution_count": null,
   "metadata": {},
   "outputs": [],
   "source": [
    "k_scores ={}\n",
    "make_elbow_graph(dfa_year)\n",
    "sns.lineplot(x=list(k_scores.keys()), y=list(k_scores.values()))"
   ]
  },
  {
   "cell_type": "code",
   "execution_count": null,
   "metadata": {},
   "outputs": [],
   "source": [
    "output = plot_graph(2, dfa_year)"
   ]
  },
  {
   "cell_type": "code",
   "execution_count": null,
   "metadata": {},
   "outputs": [],
   "source": [
    "cluster_1 = []\n",
    "cluster_2 = []\n",
    "clusters = make_clusters_k(2, output, dfa_year, df_year)\n",
    "clusters"
   ]
  },
  {
   "cell_type": "code",
   "execution_count": null,
   "metadata": {},
   "outputs": [],
   "source": [
    "make_map(clusters, \"Whole Year\")"
   ]
  },
  {
   "cell_type": "code",
   "execution_count": null,
   "metadata": {},
   "outputs": [],
   "source": [
    "cluster_labels = dbscan(dfa_year, 2, 0.06)\n",
    "cluster_labels"
   ]
  },
  {
   "cell_type": "code",
   "execution_count": null,
   "metadata": {},
   "outputs": [],
   "source": [
    "clusters_db = {1: [], 2: []}\n",
    "for i in range(len(cluster_labels)):\n",
    "    x = cluster_labels[i]\n",
    "    clusters_db[x].append(df_year.iloc[i][\"State_Name\"])\n",
    "clusters_db"
   ]
  },
  {
   "cell_type": "code",
   "execution_count": null,
   "metadata": {},
   "outputs": [],
   "source": [
    "make_map(clusters_db, \"Whole Year\")"
   ]
  },
  {
   "cell_type": "markdown",
   "metadata": {},
   "source": [
    "Same output from K means and DBSCAN"
   ]
  },
  {
   "cell_type": "code",
   "execution_count": null,
   "metadata": {},
   "outputs": [],
   "source": []
  }
 ],
 "metadata": {
  "kernelspec": {
   "display_name": "Python 3",
   "language": "python",
   "name": "python3"
  },
  "language_info": {
   "codemirror_mode": {
    "name": "ipython",
    "version": 3
   },
   "file_extension": ".py",
   "mimetype": "text/x-python",
   "name": "python",
   "nbconvert_exporter": "python",
   "pygments_lexer": "ipython3",
   "version": "3.7.3"
  }
 },
 "nbformat": 4,
 "nbformat_minor": 2
}
